{
 "cells": [
  {
   "cell_type": "markdown",
   "metadata": {
    "editable": true
   },
   "source": [
    "# Population Demographics, City Immigration and Tempurature Analysis\n",
    "### Data Engineering Capstone Project\n",
    "\n",
    "#### Project Summary\n",
    "This project analysis the US immigration data and its relationhip with the census data along with weather Tempurature and explores the reason most popular cities for immigration, gender distribution of the immigrants, visa-type distribution of the immigrants, average tempurature distribution of various cities.\n",
    "\n",
    "For the sake of the project we are using the following datasets:\n",
    "\n",
    "1. I94 immigration dataset of 2016 \n",
    "2. City temperature data from Kaggle \n",
    "3. US city demographic data from OpenSoft. \n",
    "\n",
    "PySpark and Pandas are used for Data Extraction, Data Manipulation and Data Exploration. Pyspark was found to be more useful for the import sas type file and large csv files \n",
    "\n",
    "The project follows the follow steps:\n",
    "* Step 1: Scope the Project and Gather Data\n",
    "* Step 2: Explore and Assess the Data\n",
    "* Step 3: Define the Data Model\n",
    "* Step 4: Run ETL to Model the Data\n",
    "* Step 5: Complete Project Write Up"
   ]
  },
  {
   "cell_type": "code",
   "execution_count": 1,
   "metadata": {
    "editable": true
   },
   "outputs": [],
   "source": [
    "\"\"\"\n",
    "Importing and installing  all the required libraries\n",
    "for data importation and data extraction\n",
    "\n",
    "\"\"\"\n",
    "import pandas as pd\n",
    "import psycopg2\n",
    "from pyspark.sql import SparkSession\n",
    "from pyspark.sql.types import DateType\n",
    "from pyspark.sql import functions as F\n",
    "from pyspark.sql.types import IntegerType, StringType\n",
    "from pyspark.sql.window import Window\n",
    "\n",
    "import matplotlib.pyplot as plt\n",
    "import configparser\n",
    "import os\n",
    "from pyspark.sql.functions import count, col, udf, year, month, avg, round, dayofweek, weekofyear, isnull\n"
   ]
  },
  {
   "cell_type": "markdown",
   "metadata": {
    "editable": true
   },
   "source": [
    "### Step 1: Scope the Project and Gather Data\n",
    "\n",
    "#### Scope \n",
    "The goal of this project is to extract data from the different sources and design a fact and dimension  table for analyzing US immigration data using Tempurature data, US census data and seasonality\n",
    "\n",
    "#### Describe and Gather Data \n",
    "Describe the data sets you're using. Where did it come from? What type of information is included? \n",
    "\n",
    "##### 1. I94 Immigration Data: US National Tourism and Trade Office and contains statistics on international visitor arrival in USA and comes from the US National Tourism and Trade Office.\n",
    "\n",
    "##### 2. World Tempurature Data: Derived from Kaggle and contains average weather tempuratures by city.\n",
    "\n",
    "##### 3. U.S City Demographic Data: derived from OpenSoft and contains imformation about the demographics of all US cities such as average age, male and female population\n"
   ]
  },
  {
   "cell_type": "code",
   "execution_count": 2,
   "metadata": {
    "editable": true
   },
   "outputs": [],
   "source": [
    "\"\"\"\n",
    "Building necessary environment for important sas files and\n",
    "creating pyspark session\n",
    "\n",
    "\"\"\"\n",
    "\n",
    "import os\n",
    "os.environ[\"JAVA_HOME\"] = \"/usr/lib/jvm/java-8-openjdk-amd64\"\n",
    "os.environ[\"PATH\"] = \"/opt/conda/bin:/opt/spark-2.4.3-bin-hadoop2.7/bin:/opt/conda/bin:/usr/local/sbin:/usr/local/bin:/usr/sbin:/usr/bin:/sbin:/bin:/usr/lib/jvm/java-8-openjdk-amd64/bin\"\n",
    "os.environ[\"SPARK_HOME\"] = \"/opt/spark-2.4.3-bin-hadoop2.7\"\n",
    "os.environ[\"HADOOP_HOME\"] = \"/opt/spark-2.4.3-bin-hadoop2.7\"\n",
    "from pyspark.sql import SparkSession\n",
    "spark = SparkSession.builder.getOrCreate()\n",
    "df_spark =spark.read.load('./sas_data')"
   ]
  },
  {
   "cell_type": "markdown",
   "metadata": {
    "editable": true
   },
   "source": [
    "#### Immigration Data after importing the sas file using PySpark"
   ]
  },
  {
   "cell_type": "code",
   "execution_count": 3,
   "metadata": {
    "editable": true
   },
   "outputs": [
    {
     "name": "stdout",
     "output_type": "stream",
     "text": [
      "+---------+------+------+-------+-----+--------+\n",
      "|    cicid| i94yr|i94res|depdate|count|visatype|\n",
      "+---------+------+------+-------+-----+--------+\n",
      "|5748517.0|2016.0| 438.0|20582.0|  1.0|      B1|\n",
      "|5748518.0|2016.0| 438.0|20591.0|  1.0|      B1|\n",
      "|5748519.0|2016.0| 438.0|20582.0|  1.0|      B1|\n",
      "|5748520.0|2016.0| 438.0|20588.0|  1.0|      B1|\n",
      "|5748521.0|2016.0| 438.0|20588.0|  1.0|      B1|\n",
      "+---------+------+------+-------+-----+--------+\n",
      "only showing top 5 rows\n",
      "\n"
     ]
    }
   ],
   "source": [
    "df_spark.select('cicid','i94yr','i94res','depdate','count','visatype').show(5)"
   ]
  },
  {
   "cell_type": "code",
   "execution_count": 4,
   "metadata": {
    "editable": true
   },
   "outputs": [
    {
     "name": "stdout",
     "output_type": "stream",
     "text": [
      "root\n",
      " |-- cicid: double (nullable = true)\n",
      " |-- i94yr: double (nullable = true)\n",
      " |-- i94mon: double (nullable = true)\n",
      " |-- i94cit: double (nullable = true)\n",
      " |-- i94res: double (nullable = true)\n",
      " |-- i94port: string (nullable = true)\n",
      " |-- arrdate: double (nullable = true)\n",
      " |-- i94mode: double (nullable = true)\n",
      " |-- i94addr: string (nullable = true)\n",
      " |-- depdate: double (nullable = true)\n",
      " |-- i94bir: double (nullable = true)\n",
      " |-- i94visa: double (nullable = true)\n",
      " |-- count: double (nullable = true)\n",
      " |-- dtadfile: string (nullable = true)\n",
      " |-- visapost: string (nullable = true)\n",
      " |-- occup: string (nullable = true)\n",
      " |-- entdepa: string (nullable = true)\n",
      " |-- entdepd: string (nullable = true)\n",
      " |-- entdepu: string (nullable = true)\n",
      " |-- matflag: string (nullable = true)\n",
      " |-- biryear: double (nullable = true)\n",
      " |-- dtaddto: string (nullable = true)\n",
      " |-- gender: string (nullable = true)\n",
      " |-- insnum: string (nullable = true)\n",
      " |-- airline: string (nullable = true)\n",
      " |-- admnum: double (nullable = true)\n",
      " |-- fltno: string (nullable = true)\n",
      " |-- visatype: string (nullable = true)\n",
      "\n"
     ]
    }
   ],
   "source": [
    "df_spark.printSchema()"
   ]
  },
  {
   "cell_type": "code",
   "execution_count": 5,
   "metadata": {
    "editable": true
   },
   "outputs": [],
   "source": [
    "# Read in the data here\n",
    "airport=pd.read_csv('airport-codes_csv.csv')\n",
    "immigration=pd.read_csv('immigration_data_sample.csv')\n"
   ]
  },
  {
   "cell_type": "code",
   "execution_count": 6,
   "metadata": {
    "editable": true
   },
   "outputs": [],
   "source": [
    "airline=df_spark.groupby(\"airline\").sum(\"count\").withColumnRenamed(\"sum(count)\",\"Summation\").orderBy(\"Summation\",ascending=False)"
   ]
  },
  {
   "cell_type": "code",
   "execution_count": 7,
   "metadata": {
    "editable": true
   },
   "outputs": [
    {
     "data": {
      "text/plain": [
       "<matplotlib.axes._subplots.AxesSubplot at 0x7f8ae499e748>"
      ]
     },
     "execution_count": 7,
     "metadata": {},
     "output_type": "execute_result"
    },
    {
     "data": {
      "image/png": "[encoded data removed]",
      "text/plain": [
       "<matplotlib.figure.Figure at 0x7f8ae4999c18>"
      ]
     },
     "metadata": {
      "needs_background": "light"
     },
     "output_type": "display_data"
    }
   ],
   "source": [
    "airline.toPandas().plot.hist()"
   ]
  },
  {
   "cell_type": "markdown",
   "metadata": {
    "editable": true
   },
   "source": [
    "#### Cleaning Immigration dataset"
   ]
  },
  {
   "cell_type": "code",
   "execution_count": 8,
   "metadata": {
    "editable": true
   },
   "outputs": [],
   "source": [
    "import re\n",
    "# Create list of valid ports\n",
    "i94_sas_label_descriptions_fname = \"I94_SAS_Labels_Descriptions.SAS\"\n",
    "with open(i94_sas_label_descriptions_fname) as f:\n",
    "    lines = f.readlines()\n",
    "\n",
    "re_compiled = re.compile(r\"\\'(.*)\\'.*\\'(.*)\\'\")\n",
    "valid_ports = {}\n",
    "for line in lines[302:961]:\n",
    "    results = re_compiled.search(line)\n",
    "    valid_ports[results.group(1)] = results.group(2)\n"
   ]
  },
  {
   "cell_type": "markdown",
   "metadata": {
    "editable": true
   },
   "source": [
    "### Us Cities descrines the demographics of the different USA Cities like Male population, medain age"
   ]
  },
  {
   "cell_type": "code",
   "execution_count": 9,
   "metadata": {
    "editable": true
   },
   "outputs": [],
   "source": [
    "file = \"us-cities-demographics.csv\"\n",
    "us_cities_spark = spark.read.format(\"csv\").option(\"delimiter\", \";\").option(\"header\", \"true\").load(file)"
   ]
  },
  {
   "cell_type": "code",
   "execution_count": 10,
   "metadata": {
    "editable": true
   },
   "outputs": [],
   "source": [
    "file = \"../../data2/GlobalLandTemperaturesByCity.csv\"\n",
    "df_tempurature = spark.read.format(\"csv\").option(\"delimiter\", \",\").option(\"header\", \"true\").load(file)"
   ]
  },
  {
   "cell_type": "code",
   "execution_count": 11,
   "metadata": {
    "editable": true
   },
   "outputs": [
    {
     "name": "stdout",
     "output_type": "stream",
     "text": [
      "+----------+------------------+-----------------------------+-----+-------+--------+---------+\n",
      "|        dt|AverageTemperature|AverageTemperatureUncertainty| City|Country|Latitude|Longitude|\n",
      "+----------+------------------+-----------------------------+-----+-------+--------+---------+\n",
      "|1743-11-01|             6.068|           1.7369999999999999|Århus|Denmark|  57.05N|   10.33E|\n",
      "|1743-12-01|              null|                         null|Århus|Denmark|  57.05N|   10.33E|\n",
      "|1744-01-01|              null|                         null|Århus|Denmark|  57.05N|   10.33E|\n",
      "|1744-02-01|              null|                         null|Århus|Denmark|  57.05N|   10.33E|\n",
      "+----------+------------------+-----------------------------+-----+-------+--------+---------+\n",
      "only showing top 4 rows\n",
      "\n"
     ]
    }
   ],
   "source": [
    "df_tempurature.show(4)"
   ]
  },
  {
   "cell_type": "markdown",
   "metadata": {
    "editable": true
   },
   "source": [
    "### Step 2: Explore and Assess the Data\n",
    "#### Explore the Data \n",
    "Identify data quality issues, like missing values, duplicate data, etc.\n",
    "\n"
   ]
  },
  {
   "cell_type": "code",
   "execution_count": 12,
   "metadata": {
    "editable": true
   },
   "outputs": [
    {
     "data": {
      "text/html": [
       "<div>\n",
       "<style scoped>\n",
       "    .dataframe tbody tr th:only-of-type {\n",
       "        vertical-align: middle;\n",
       "    }\n",
       "\n",
       "    .dataframe tbody tr th {\n",
       "        vertical-align: top;\n",
       "    }\n",
       "\n",
       "    .dataframe thead th {\n",
       "        text-align: right;\n",
       "    }\n",
       "</style>\n",
       "<table border=\"1\" class=\"dataframe\">\n",
       "  <thead>\n",
       "    <tr style=\"text-align: right;\">\n",
       "      <th></th>\n",
       "      <th>elevation_ft</th>\n",
       "    </tr>\n",
       "  </thead>\n",
       "  <tbody>\n",
       "    <tr>\n",
       "      <th>count</th>\n",
       "      <td>48069.000000</td>\n",
       "    </tr>\n",
       "    <tr>\n",
       "      <th>mean</th>\n",
       "      <td>1240.789677</td>\n",
       "    </tr>\n",
       "    <tr>\n",
       "      <th>std</th>\n",
       "      <td>1602.363459</td>\n",
       "    </tr>\n",
       "    <tr>\n",
       "      <th>min</th>\n",
       "      <td>-1266.000000</td>\n",
       "    </tr>\n",
       "    <tr>\n",
       "      <th>25%</th>\n",
       "      <td>205.000000</td>\n",
       "    </tr>\n",
       "    <tr>\n",
       "      <th>50%</th>\n",
       "      <td>718.000000</td>\n",
       "    </tr>\n",
       "    <tr>\n",
       "      <th>75%</th>\n",
       "      <td>1497.000000</td>\n",
       "    </tr>\n",
       "    <tr>\n",
       "      <th>max</th>\n",
       "      <td>22000.000000</td>\n",
       "    </tr>\n",
       "  </tbody>\n",
       "</table>\n",
       "</div>"
      ],
      "text/plain": [
       "       elevation_ft\n",
       "count  48069.000000\n",
       "mean    1240.789677\n",
       "std     1602.363459\n",
       "min    -1266.000000\n",
       "25%      205.000000\n",
       "50%      718.000000\n",
       "75%     1497.000000\n",
       "max    22000.000000"
      ]
     },
     "execution_count": 12,
     "metadata": {},
     "output_type": "execute_result"
    }
   ],
   "source": [
    "airport.describe()"
   ]
  },
  {
   "cell_type": "markdown",
   "metadata": {
    "editable": true
   },
   "source": [
    "#### Cleaning Steps\n",
    "### Document steps necessary to clean the data\n",
    "\n",
    "#### Counting missing values from the dataframes"
   ]
  },
  {
   "cell_type": "code",
   "execution_count": 13,
   "metadata": {
    "editable": true
   },
   "outputs": [],
   "source": [
    "from pyspark.sql.functions import isnan, when, count, col,udf\n",
    "\n",
    "df_spark_missing=df_spark.select([count(when(isnan(c), c)).alias(c) for c in df_spark.columns])\n"
   ]
  },
  {
   "cell_type": "code",
   "execution_count": 14,
   "metadata": {
    "editable": true
   },
   "outputs": [
    {
     "data": {
      "text/plain": [
       "<matplotlib.axes._subplots.AxesSubplot at 0x7f8ae48c7c88>"
      ]
     },
     "execution_count": 14,
     "metadata": {},
     "output_type": "execute_result"
    },
    {
     "data": {
      "image/png": "[encoded data removed]",
      "text/plain": [
       "<matplotlib.figure.Figure at 0x7f8ae4857668>"
      ]
     },
     "metadata": {
      "needs_background": "light"
     },
     "output_type": "display_data"
    }
   ],
   "source": [
    "airport.isna().sum().plot.bar()"
   ]
  },
  {
   "cell_type": "code",
   "execution_count": 15,
   "metadata": {
    "editable": true
   },
   "outputs": [
    {
     "data": {
      "text/plain": [
       "<matplotlib.axes._subplots.AxesSubplot at 0x7f8ae485d898>"
      ]
     },
     "execution_count": 15,
     "metadata": {},
     "output_type": "execute_result"
    },
    {
     "data": {
      "image/png": "[encoded data removed]",
      "text/plain": [
       "<matplotlib.figure.Figure at 0x7f8ae486edd8>"
      ]
     },
     "metadata": {
      "needs_background": "light"
     },
     "output_type": "display_data"
    }
   ],
   "source": [
    "immigration.isna().sum().plot.bar()"
   ]
  },
  {
   "cell_type": "code",
   "execution_count": 16,
   "metadata": {
    "editable": true
   },
   "outputs": [
    {
     "name": "stdout",
     "output_type": "stream",
     "text": [
      "49\n",
      "['MD' 'MA' 'AL' 'CA' 'NJ' 'IL' 'AZ' 'MO' 'NC' 'PA' 'KS' 'FL' 'TX' 'VA' 'NV'\n",
      " 'CO' 'MI' 'CT' 'MN' 'UT' 'AR' 'TN' 'OK' 'WA' 'NY' 'GA' 'NE' 'KY' 'SC' 'LA'\n",
      " 'NM' 'IA' 'RI' 'PR' 'DC' 'WI' 'OR' 'NH' 'ND' 'DE' 'OH' 'ID' 'IN' 'AK' 'MS'\n",
      " 'HI' 'SD' 'ME' 'MT']\n"
     ]
    }
   ],
   "source": [
    "# Create list of valid states\n",
    "valid_states = us_cities_spark.toPandas()[\"State Code\"].unique()\n",
    "print(len(valid_states))\n",
    "print(valid_states)"
   ]
  },
  {
   "cell_type": "code",
   "execution_count": 17,
   "metadata": {
    "editable": true
   },
   "outputs": [],
   "source": [
    "@udf(StringType())\n",
    "def convert_to_date(x):\n",
    "    if x:\n",
    "        return x\n",
    "    return 'other'"
   ]
  },
  {
   "cell_type": "code",
   "execution_count": 18,
   "metadata": {
    "editable": true
   },
   "outputs": [],
   "source": [
    "@udf(StringType())\n",
    "def state_validations(x):\n",
    "    if x in valid_states:\n",
    "        return x\n",
    "    return 'other'"
   ]
  },
  {
   "cell_type": "code",
   "execution_count": 19,
   "metadata": {
    "editable": true
   },
   "outputs": [],
   "source": [
    "df_spark=df_spark.dropna(how=\"any\",subset=[\"i94port\",\"i94addr\",\"gender\"])\n",
    "df_spark=df_spark.withColumn(\"i94addr\",state_validations(df_spark.i94addr))\n",
    "df_spark=df_spark.withColumn(\"arrdate\",convert_to_date(df_spark.arrdate))"
   ]
  },
  {
   "cell_type": "code",
   "execution_count": 20,
   "metadata": {
    "editable": true
   },
   "outputs": [],
   "source": [
    "df_spark=df_spark.filter(df_spark.i94addr!='other')"
   ]
  },
  {
   "cell_type": "code",
   "execution_count": 21,
   "metadata": {
    "editable": true
   },
   "outputs": [],
   "source": [
    "df_i94_staging=df_spark.select(col(\"cicid\").alias(\"id\"), \n",
    "                                       col(\"arrdate\").alias(\"date\"),\n",
    "                                       col(\"i94port\").alias(\"city_code\"),\n",
    "                                       col(\"i94addr\").alias(\"state_code\"),\n",
    "                                       col(\"i94bir\").alias(\"age\"),\n",
    "                                       col(\"gender\").alias(\"gender\"),\n",
    "                                       col(\"i94visa\").alias(\"visa_type\"),\n",
    "                                       \"count\").drop_duplicates()"
   ]
  },
  {
   "cell_type": "markdown",
   "metadata": {
    "editable": true
   },
   "source": [
    "#### Tempurature dataset"
   ]
  },
  {
   "cell_type": "code",
   "execution_count": 22,
   "metadata": {
    "editable": true
   },
   "outputs": [
    {
     "data": {
      "text/plain": [
       "8599212"
      ]
     },
     "execution_count": 22,
     "metadata": {},
     "output_type": "execute_result"
    }
   ],
   "source": [
    "df_tempurature.count()"
   ]
  },
  {
   "cell_type": "code",
   "execution_count": 23,
   "metadata": {
    "editable": true
   },
   "outputs": [
    {
     "data": {
      "text/html": [
       "<div>\n",
       "<style scoped>\n",
       "    .dataframe tbody tr th:only-of-type {\n",
       "        vertical-align: middle;\n",
       "    }\n",
       "\n",
       "    .dataframe tbody tr th {\n",
       "        vertical-align: top;\n",
       "    }\n",
       "\n",
       "    .dataframe thead th {\n",
       "        text-align: right;\n",
       "    }\n",
       "</style>\n",
       "<table border=\"1\" class=\"dataframe\">\n",
       "  <thead>\n",
       "    <tr style=\"text-align: right;\">\n",
       "      <th></th>\n",
       "      <th>dt</th>\n",
       "      <th>AverageTemperature</th>\n",
       "      <th>AverageTemperatureUncertainty</th>\n",
       "      <th>City</th>\n",
       "      <th>Country</th>\n",
       "      <th>Latitude</th>\n",
       "      <th>Longitude</th>\n",
       "    </tr>\n",
       "  </thead>\n",
       "  <tbody>\n",
       "    <tr>\n",
       "      <th>0</th>\n",
       "      <td>1743-11-01</td>\n",
       "      <td>6.068</td>\n",
       "      <td>1.7369999999999999</td>\n",
       "      <td>Århus</td>\n",
       "      <td>Denmark</td>\n",
       "      <td>57.05N</td>\n",
       "      <td>10.33E</td>\n",
       "    </tr>\n",
       "    <tr>\n",
       "      <th>1</th>\n",
       "      <td>1743-12-01</td>\n",
       "      <td>None</td>\n",
       "      <td>None</td>\n",
       "      <td>Århus</td>\n",
       "      <td>Denmark</td>\n",
       "      <td>57.05N</td>\n",
       "      <td>10.33E</td>\n",
       "    </tr>\n",
       "    <tr>\n",
       "      <th>2</th>\n",
       "      <td>1744-01-01</td>\n",
       "      <td>None</td>\n",
       "      <td>None</td>\n",
       "      <td>Århus</td>\n",
       "      <td>Denmark</td>\n",
       "      <td>57.05N</td>\n",
       "      <td>10.33E</td>\n",
       "    </tr>\n",
       "  </tbody>\n",
       "</table>\n",
       "</div>"
      ],
      "text/plain": [
       "           dt AverageTemperature AverageTemperatureUncertainty   City  \\\n",
       "0  1743-11-01              6.068            1.7369999999999999  Århus   \n",
       "1  1743-12-01               None                          None  Århus   \n",
       "2  1744-01-01               None                          None  Århus   \n",
       "\n",
       "   Country Latitude Longitude  \n",
       "0  Denmark   57.05N    10.33E  \n",
       "1  Denmark   57.05N    10.33E  \n",
       "2  Denmark   57.05N    10.33E  "
      ]
     },
     "execution_count": 23,
     "metadata": {},
     "output_type": "execute_result"
    }
   ],
   "source": [
    "df_tempurature.limit(3).toPandas()"
   ]
  },
  {
   "cell_type": "code",
   "execution_count": 24,
   "metadata": {
    "editable": true
   },
   "outputs": [],
   "source": [
    "@udf(StringType())\n",
    "def city_to_port(city):\n",
    "    for key in valid_ports:\n",
    "        if city.lower() in valid_ports[key].lower():\n",
    "            return key"
   ]
  },
  {
   "cell_type": "code",
   "execution_count": 25,
   "metadata": {
    "editable": true
   },
   "outputs": [],
   "source": [
    "df_tempurature_cleaned=df_tempurature.filter(df_tempurature[\"Country\"] == \"United States\") \\\n",
    "    .withColumn(\"year\", year(df_tempurature['dt'])) \\\n",
    "    .withColumn(\"month\", month(df_tempurature[\"dt\"])) \\\n",
    "    .withColumn(\"i94port\", city_to_port(df_tempurature[\"City\"])) \\\n",
    "    .withColumn(\"AverageTemperature\", col(\"AverageTemperature\").cast(\"float\")) \\\n",
    "    .dropna(how='any', subset=[\"i94port\"])"
   ]
  },
  {
   "cell_type": "code",
   "execution_count": 26,
   "metadata": {
    "editable": true
   },
   "outputs": [
    {
     "name": "stdout",
     "output_type": "stream",
     "text": [
      "+----------+------------------+-----------------------------+-----+-------------+--------+---------+----+-----+-------+\n",
      "|        dt|AverageTemperature|AverageTemperatureUncertainty| City|      Country|Latitude|Longitude|year|month|i94port|\n",
      "+----------+------------------+-----------------------------+-----+-------------+--------+---------+----+-----+-------+\n",
      "|1743-11-01|             3.209|           1.9609999999999999|Akron|United States|  40.99N|   80.95W|1743|   11|    AKR|\n",
      "|1743-12-01|              null|                         null|Akron|United States|  40.99N|   80.95W|1743|   12|    AKR|\n",
      "|1744-01-01|              null|                         null|Akron|United States|  40.99N|   80.95W|1744|    1|    AKR|\n",
      "|1744-02-01|              null|                         null|Akron|United States|  40.99N|   80.95W|1744|    2|    AKR|\n",
      "+----------+------------------+-----------------------------+-----+-------------+--------+---------+----+-----+-------+\n",
      "only showing top 4 rows\n",
      "\n"
     ]
    }
   ],
   "source": [
    "df_tempurature_cleaned.show(4)"
   ]
  },
  {
   "cell_type": "code",
   "execution_count": 27,
   "metadata": {
    "editable": true
   },
   "outputs": [],
   "source": [
    "df_tempurature_cleaned = df_tempurature_cleaned.filter(df_tempurature_cleaned[\"year\"] == 2013)\n"
   ]
  },
  {
   "cell_type": "code",
   "execution_count": 28,
   "metadata": {
    "editable": true
   },
   "outputs": [
    {
     "name": "stdout",
     "output_type": "stream",
     "text": [
      "+----------+------------------+-----------------------------+-----+-------------+--------+---------+----+-----+-------+\n",
      "|        dt|AverageTemperature|AverageTemperatureUncertainty| City|      Country|Latitude|Longitude|year|month|i94port|\n",
      "+----------+------------------+-----------------------------+-----+-------------+--------+---------+----+-----+-------+\n",
      "|2013-01-01|            -1.086|                         0.22|Akron|United States|  40.99N|   80.95W|2013|    1|    AKR|\n",
      "|2013-02-01|            -2.213|                        0.226|Akron|United States|  40.99N|   80.95W|2013|    2|    AKR|\n",
      "|2013-03-01|             1.285|                        0.239|Akron|United States|  40.99N|   80.95W|2013|    3|    AKR|\n",
      "+----------+------------------+-----------------------------+-----+-------------+--------+---------+----+-----+-------+\n",
      "only showing top 3 rows\n",
      "\n"
     ]
    }
   ],
   "source": [
    "df_tempurature_cleaned.show(3)"
   ]
  },
  {
   "cell_type": "code",
   "execution_count": 29,
   "metadata": {
    "editable": true
   },
   "outputs": [],
   "source": [
    "staging_temp_df = df_tempurature_cleaned.select(col(\"year\"), col(\"month\"), col(\"i94port\").alias(\"city_code\"),\n",
    "                                         round(col(\"AverageTemperature\"), 1).alias(\"avg_temperature\"),\n",
    "                                         col(\"Latitude\").alias(\"lat\"), col(\"Longitude\").alias(\"long\")).drop_duplicates()"
   ]
  },
  {
   "cell_type": "code",
   "execution_count": 30,
   "metadata": {
    "editable": true
   },
   "outputs": [
    {
     "name": "stdout",
     "output_type": "stream",
     "text": [
      "+----+-----+---------+---------------+------+-------+\n",
      "|year|month|city_code|avg_temperature|   lat|   long|\n",
      "+----+-----+---------+---------------+------+-------+\n",
      "|2013|    4|      COL|           16.9|32.95N| 85.21W|\n",
      "|2013|    1|      DAB|            0.5|39.38N| 83.24W|\n",
      "|2013|    1|      ONT|            6.8|34.56N|116.76W|\n",
      "|2013|    2|      POM|            5.8|45.81N|123.46W|\n",
      "|2013|    5|      PRO|           14.3|42.59N| 72.00W|\n",
      "+----+-----+---------+---------------+------+-------+\n",
      "only showing top 5 rows\n",
      "\n"
     ]
    }
   ],
   "source": [
    "df_tempurature_staging = staging_temp_df.drop_duplicates()\n",
    "df_tempurature_staging.show(5)"
   ]
  },
  {
   "cell_type": "markdown",
   "metadata": {
    "editable": true
   },
   "source": [
    "#### Demographics Data"
   ]
  },
  {
   "cell_type": "code",
   "execution_count": 31,
   "metadata": {
    "editable": true
   },
   "outputs": [],
   "source": [
    "# Clean demographics data\n",
    "\n",
    "# Calculate percentages of numeric columns and create new ones\n",
    "cleaned_us_cities_spark = us_cities_spark.withColumn(\"median_age\", us_cities_spark['Median Age']) \\\n",
    "    .withColumn(\"pct_male_pop\", (us_cities_spark['Male Population'] / us_cities_spark['Total Population']) * 100) \\\n",
    "    .withColumn(\"pct_female_pop\", (us_cities_spark['Female Population'] / us_cities_spark['Total Population']) * 100) \\\n",
    "    .withColumn(\"pct_veterans\", (us_cities_spark['Number of Veterans'] / us_cities_spark['Total Population']) * 100) \\\n",
    "    .withColumn(\"pct_foreign_born\", (us_cities_spark['Foreign-born'] / us_cities_spark['Total Population']) * 100) \\\n",
    "    .withColumn(\"pct_race\", (us_cities_spark['Count'] / us_cities_spark['Total Population']) * 100) \\\n",
    "    .withColumn(\"city_code\", city_to_port(us_cities_spark[\"City\"])) \\\n",
    "    .dropna(how='any', subset=[\"city_code\"])\n",
    "\n",
    "cleaned_us_cities_spark = cleaned_us_cities_spark.select(col(\"City\").alias(\"city_name\"), col(\"State Code\").alias(\"state_code\"), \n",
    "                         \"median_age\", \"pct_male_pop\", \"pct_female_pop\",\"pct_veterans\", \n",
    "                         \"pct_foreign_born\", col(\"Total Population\").alias(\"total_pop\"), \n",
    "                         col(\"Race\").alias(\"race\"), \"pct_race\").drop_duplicates()\n",
    "\n"
   ]
  },
  {
   "cell_type": "code",
   "execution_count": 32,
   "metadata": {
    "editable": true
   },
   "outputs": [
    {
     "name": "stdout",
     "output_type": "stream",
     "text": [
      "+-----------+----------+----------+------------------+------------------+-----------------+------------------+---------+--------------------+------------------+\n",
      "|  city_name|state_code|median_age|      pct_male_pop|    pct_female_pop|     pct_veterans|  pct_foreign_born|total_pop|                race|          pct_race|\n",
      "+-----------+----------+----------+------------------+------------------+-----------------+------------------+---------+--------------------+------------------+\n",
      "|       Reno|        NV|      35.7|50.650464084690796|49.349535915309204|7.077861027240385| 15.35352029257423|   241443|American Indian a...| 1.603691140351967|\n",
      "|Springfield|        IL|      38.8| 47.22814046465041|  52.7718595353496|6.387457664524781|3.6194178713001555|   117809|  Hispanic or Latino|2.3241008751453625|\n",
      "|   Columbia|        MD|      37.9| 50.45280137628423| 49.54719862371578|6.307325040834276|22.469966269438565|   103467|               White|56.388027100428154|\n",
      "+-----------+----------+----------+------------------+------------------+-----------------+------------------+---------+--------------------+------------------+\n",
      "only showing top 3 rows\n",
      "\n"
     ]
    }
   ],
   "source": [
    "cleaned_us_cities_spark.show(3)"
   ]
  },
  {
   "cell_type": "code",
   "execution_count": 33,
   "metadata": {
    "editable": true
   },
   "outputs": [],
   "source": [
    "\n",
    "# Pivot the race column\n",
    "pivot_demo_df = cleaned_us_cities_spark.groupBy(\"city_name\", \"state_code\", \"median_age\", \"pct_male_pop\",\n",
    "                                        \"pct_female_pop\",\"pct_veterans\", \"pct_foreign_born\", \"total_pop\").pivot(\"Race\").avg(\"pct_race\")\n",
    "pivot_demo_df = pivot_demo_df.withColumn(\"city_code\", city_to_port(pivot_demo_df[\"city_name\"])) \\\n",
    "    .dropna(how='any', subset=[\"city_code\"])\n",
    "staging_demo_df = pivot_demo_df.select(\"city_code\", \"state_code\", \"city_name\", \"median_age\",\n",
    "                                    round(col(\"pct_male_pop\"), 1).alias(\"pct_male_pop\"),\n",
    "                                    round(col(\"pct_female_pop\"), 1).alias(\"pct_female_pop\"),\n",
    "                                    round(col(\"pct_veterans\"), 1).alias(\"pct_veterans\"),\n",
    "                                    round(col(\"pct_veterans\"), 1).alias(\"pct_foreign_born\"),\n",
    "                                    round(col(\"American Indian and Alaska Native\"), 1).alias(\"pct_native_american\"),\n",
    "                                    round(col(\"Asian\"), 1).alias(\"pct_asian\"),\n",
    "                                    round(col(\"Black or African-American\"), 1).alias(\"pct_black\"),\n",
    "                                    round(col(\"Hispanic or Latino\"), 1).alias(\"pct_hispanic_or_latino\"),\n",
    "                                    round(col(\"White\"), 1).alias(\"pct_white\"), \"total_pop\")\n"
   ]
  },
  {
   "cell_type": "code",
   "execution_count": 34,
   "metadata": {
    "editable": true
   },
   "outputs": [
    {
     "name": "stdout",
     "output_type": "stream",
     "text": [
      "+---------+----------+--------------+----------+------------+--------------+------------+----------------+-------------------+---------+---------+----------------------+---------+---------+\n",
      "|city_code|state_code|     city_name|median_age|pct_male_pop|pct_female_pop|pct_veterans|pct_foreign_born|pct_native_american|pct_asian|pct_black|pct_hispanic_or_latino|pct_white|total_pop|\n",
      "+---------+----------+--------------+----------+------------+--------------+------------+----------------+-------------------+---------+---------+----------------------+---------+---------+\n",
      "|      TUC|        AZ|        Tucson|      33.6|        49.8|          50.2|         7.2|             7.2|                4.6|      4.6|      6.4|                  43.5|     76.1|   531674|\n",
      "|      MCA|        TX|         Allen|      37.2|        52.3|          47.7|         3.6|             3.6|                0.2|     16.1|     13.4|                  10.8|     71.2|    98138|\n",
      "|      CRP|        TX|Corpus Christi|      35.0|        49.5|          50.5|         7.7|             7.7|                0.9|      2.8|      4.6|                  61.9|     90.3|   324082|\n",
      "+---------+----------+--------------+----------+------------+--------------+------------+----------------+-------------------+---------+---------+----------------------+---------+---------+\n",
      "only showing top 3 rows\n",
      "\n"
     ]
    }
   ],
   "source": [
    "staging_demo_df.show(3)"
   ]
  },
  {
   "cell_type": "code",
   "execution_count": 35,
   "metadata": {
    "editable": true
   },
   "outputs": [
    {
     "name": "stdout",
     "output_type": "stream",
     "text": [
      "root\n",
      " |-- city_code: string (nullable = true)\n",
      " |-- state_code: string (nullable = true)\n",
      " |-- city_name: string (nullable = true)\n",
      " |-- median_age: string (nullable = true)\n",
      " |-- pct_male_pop: double (nullable = true)\n",
      " |-- pct_female_pop: double (nullable = true)\n",
      " |-- pct_veterans: double (nullable = true)\n",
      " |-- pct_foreign_born: double (nullable = true)\n",
      " |-- pct_native_american: double (nullable = true)\n",
      " |-- pct_asian: double (nullable = true)\n",
      " |-- pct_black: double (nullable = true)\n",
      " |-- pct_hispanic_or_latino: double (nullable = true)\n",
      " |-- pct_white: double (nullable = true)\n",
      " |-- total_pop: string (nullable = true)\n",
      "\n"
     ]
    }
   ],
   "source": [
    "staging_demo_df.printSchema()"
   ]
  },
  {
   "cell_type": "markdown",
   "metadata": {
    "editable": true
   },
   "source": [
    "### Step 3: Define the Data Model\n",
    "#### 3.1 Conceptual Data Model\n",
    "The Star schema is chosen as the data model because of its easy of design and effectiveness. Users can write simple to complex queries by joining fact table with the dimension table and perform various OLAP queries\n",
    "\n",
    "![title](star_schema.png)\n",
    "\n",
    "### Staging Tables\n",
    "\n",
    "#### df_staging_i94\n",
    "    id\n",
    "    date\n",
    "    city_code\n",
    "    state_code\n",
    "    age\n",
    "    gender\n",
    "    visa_type\n",
    "    count\n",
    "\n",
    "#### df_tempurature_staging\n",
    "    year\n",
    "    month\n",
    "    city_code\n",
    "    city_name\n",
    "    avg_tempurature\n",
    "    lat\n",
    "    log\n",
    "\n",
    "\n",
    "#### staging_demo_df\n",
    "    city_code\n",
    "    state_code\n",
    "    city_name\n",
    "    median_age\n",
    "    pct_male_pop\n",
    "    pct_female_pop\n",
    "    pct_veterans\n",
    "    pct_foreign_born\n",
    "    pct_native_american\n",
    "    pct_asian\n",
    "    pct_black\n",
    "    pct_hispanic_or_latino\n",
    "    pct_white\n",
    "    total_pop\n",
    "\n",
    "\n",
    "### 3.2 Mapping Out Data Pipelines\n",
    "1. Cleaning the dataset on nulls, datatypes and, duplicates\n",
    "2. Load the staging tables for the immigrant_df, city_df, monthly_city_temp_df and time_df\n",
    "3. Create fact table immigration_df with the information on the immigration count, mapping id in immigrant_df, city_code in city_df and monthly_city_temp_df and date in time_df ensuring referential integrity\n",
    "4. Save processed dimension and fact table in parquet for OLAP queries"
   ]
  },
  {
   "cell_type": "markdown",
   "metadata": {
    "editable": true
   },
   "source": [
    "### Step 4: Run Pipelines to Model the Data \n",
    "#### 4.1 Create the data model\n",
    "Build the data pipelines to create the data model."
   ]
  },
  {
   "cell_type": "code",
   "execution_count": 36,
   "metadata": {
    "editable": true
   },
   "outputs": [
    {
     "data": {
      "text/html": [
       "<div>\n",
       "<style scoped>\n",
       "    .dataframe tbody tr th:only-of-type {\n",
       "        vertical-align: middle;\n",
       "    }\n",
       "\n",
       "    .dataframe tbody tr th {\n",
       "        vertical-align: top;\n",
       "    }\n",
       "\n",
       "    .dataframe thead th {\n",
       "        text-align: right;\n",
       "    }\n",
       "</style>\n",
       "<table border=\"1\" class=\"dataframe\">\n",
       "  <thead>\n",
       "    <tr style=\"text-align: right;\">\n",
       "      <th></th>\n",
       "      <th>id</th>\n",
       "      <th>gender</th>\n",
       "      <th>age</th>\n",
       "      <th>visa_type</th>\n",
       "    </tr>\n",
       "  </thead>\n",
       "  <tbody>\n",
       "    <tr>\n",
       "      <th>0</th>\n",
       "      <td>3473337.0</td>\n",
       "      <td>F</td>\n",
       "      <td>4.0</td>\n",
       "      <td>2.0</td>\n",
       "    </tr>\n",
       "    <tr>\n",
       "      <th>1</th>\n",
       "      <td>4891623.0</td>\n",
       "      <td>M</td>\n",
       "      <td>8.0</td>\n",
       "      <td>2.0</td>\n",
       "    </tr>\n",
       "    <tr>\n",
       "      <th>2</th>\n",
       "      <td>5897117.0</td>\n",
       "      <td>M</td>\n",
       "      <td>11.0</td>\n",
       "      <td>2.0</td>\n",
       "    </tr>\n",
       "    <tr>\n",
       "      <th>3</th>\n",
       "      <td>3133608.0</td>\n",
       "      <td>F</td>\n",
       "      <td>13.0</td>\n",
       "      <td>2.0</td>\n",
       "    </tr>\n",
       "    <tr>\n",
       "      <th>4</th>\n",
       "      <td>884031.0</td>\n",
       "      <td>M</td>\n",
       "      <td>15.0</td>\n",
       "      <td>2.0</td>\n",
       "    </tr>\n",
       "  </tbody>\n",
       "</table>\n",
       "</div>"
      ],
      "text/plain": [
       "          id gender   age  visa_type\n",
       "0  3473337.0      F   4.0        2.0\n",
       "1  4891623.0      M   8.0        2.0\n",
       "2  5897117.0      M  11.0        2.0\n",
       "3  3133608.0      F  13.0        2.0\n",
       "4   884031.0      M  15.0        2.0"
      ]
     },
     "execution_count": 36,
     "metadata": {},
     "output_type": "execute_result"
    }
   ],
   "source": [
    "# Write code here\n",
    "df_immigrant = df_i94_staging.select(\"id\", \"gender\", \"age\", \"visa_type\").drop_duplicates()\n",
    "df_immigrant.limit(5).toPandas()\n"
   ]
  },
  {
   "cell_type": "code",
   "execution_count": 37,
   "metadata": {
    "editable": true
   },
   "outputs": [],
   "source": [
    "\n",
    "# Create dimension table for city\n",
    "\n",
    "city_df = staging_demo_df.join(df_tempurature_staging, \"city_code\") \\\n",
    "   .select(\"city_code\", \"state_code\", \"city_name\", \"median_age\", \"pct_male_pop\", \"pct_female_pop\", \"pct_veterans\",\n",
    "           \"pct_foreign_born\", \"pct_native_american\", \"pct_asian\", \"pct_black\",\n",
    "           \"pct_hispanic_or_latino\", \"pct_white\", \"total_pop\", \"lat\", \"long\").drop_duplicates()"
   ]
  },
  {
   "cell_type": "code",
   "execution_count": 38,
   "metadata": {
    "editable": true
   },
   "outputs": [
    {
     "name": "stdout",
     "output_type": "stream",
     "text": [
      "+---------+----+-----+---------------+\n",
      "|city_code|year|month|avg_temperature|\n",
      "+---------+----+-----+---------------+\n",
      "|      SAA|2013|    6|           18.6|\n",
      "|      PHI|2013|    5|           16.6|\n",
      "|      BOS|2013|    5|           14.3|\n",
      "|      BUR|2013|    3|           14.5|\n",
      "+---------+----+-----+---------------+\n",
      "only showing top 4 rows\n",
      "\n"
     ]
    }
   ],
   "source": [
    "monthly_city_temp_df = df_tempurature_staging.select(\"city_code\", \"year\", \"month\", \"avg_temperature\").drop_duplicates()\n",
    "monthly_city_temp_df.show(4)"
   ]
  },
  {
   "cell_type": "code",
   "execution_count": 39,
   "metadata": {
    "editable": true
   },
   "outputs": [],
   "source": [
    "# Create dimension table for time\n",
    "\n",
    "time_df = df_i94_staging.withColumn(\"dayofweek\", dayofweek(\"date\"))\\\n",
    "                .withColumn(\"weekofyear\", weekofyear(\"date\"))\\\n",
    "                .withColumn(\"month\", month(\"date\"))\n",
    "                        \n",
    "time_df = time_df.select(\"date\", \"dayofweek\", \"weekofyear\", \"month\").drop_duplicates()\n"
   ]
  },
  {
   "cell_type": "code",
   "execution_count": 40,
   "metadata": {
    "editable": true
   },
   "outputs": [
    {
     "name": "stdout",
     "output_type": "stream",
     "text": [
      "+---------+----------+---------+-------+-----+\n",
      "|       id|state_code|city_code|   date|count|\n",
      "+---------+----------+---------+-------+-----+\n",
      "|5219472.0|        FL|      NYC|20572.0|  1.0|\n",
      "|5591722.0|        FL|      MIA|20573.0|  1.0|\n",
      "| 703662.0|        CA|      LOS|20548.0|  1.0|\n",
      "+---------+----------+---------+-------+-----+\n",
      "only showing top 3 rows\n",
      "\n"
     ]
    }
   ],
   "source": [
    "immigration_df = df_i94_staging.select(\"id\", \"state_code\", \"city_code\", \"date\", \"count\").drop_duplicates()\n",
    "immigration_df.show(3)"
   ]
  },
  {
   "cell_type": "code",
   "execution_count": 41,
   "metadata": {
    "editable": true
   },
   "outputs": [],
   "source": [
    "# Write dimension tables to parquet\n",
    "#df_immigrant.write.mode(\"overwrite\").partitionBy(\"gender\", \"age\").parquet(\"immigrants\")\n",
    "#city_df.write.mode(\"overwrite\").partitionBy(\"state_code\").parquet(\"cities\")\n",
    "#monthly_city_temp_df.show(20).write.mode(\"overwrite\").parquet(\"monthly_city_temperatues\")\n",
    "#time_df.write.mode(\"overwrite\").parquet(\"time\")\n",
    "\n",
    "# Write fact table to parquet\n",
    "#immigration_df.write.mode(\"overwrite\").partitionBy(\"state_code\", \"city_code\").parquet(\"immigration\")"
   ]
  },
  {
   "cell_type": "markdown",
   "metadata": {
    "editable": true
   },
   "source": [
    "#### 4.2 Data Quality Checks\n",
    "Explain the data quality checks you'll perform to ensure the pipeline ran as expected. These could include:\n",
    " * Integrity constraints on the relational database (e.g., unique key, data type, etc.)\n",
    " * Unit tests for the scripts to ensure they are doing the right thing\n",
    " * Source/Count checks to ensure completeness\n",
    " \n",
    "Run Quality Checks"
   ]
  },
  {
   "cell_type": "markdown",
   "metadata": {
    "editable": true
   },
   "source": [
    "# Perform quality checks here\n",
    "\n",
    "def table_exists(df):\n",
    "    if df is not None:\n",
    "        return True\n",
    "    else:\n",
    "        return False\n",
    "        \n",
    "if table_exists(immigration_df) & table_exists(city_df) & table_exists(monthly_city_temp_df) & table_exists(time_df) & table_exists(immigration_df):\n",
    "    print(\"data quality check passed\")\n",
    "    print(\"dimension tables and fact table exist\")\n",
    "    print()\n",
    "else:\n",
    "    print(\"data quality check failed\")\n",
    "    print(\"table missing...\")"
   ]
  },
  {
   "cell_type": "markdown",
   "metadata": {
    "editable": true
   },
   "source": [
    "def table_not_empty(df):\n",
    "    return df.count() != 0 \n",
    "\n",
    "if table_not_empty(df_immigrant) & table_not_empty(city_df) & table_not_empty(monthly_city_temp_df) & table_not_empty(time_df) & table_not_empty(immigration_df):\n",
    "    print(\"data quality check passed!\")\n",
    "    print(\"dimension tables and fact table contain records\")\n",
    "    print()\n",
    "else:\n",
    "    print(\"data quality check failed!\")\n",
    "    print(\"null records...\")"
   ]
  },
  {
   "cell_type": "markdown",
   "metadata": {
    "editable": true
   },
   "source": [
    "#### 4.3 Data dictionary \n",
    "Create a data dictionary for your data model. For each field, provide a brief description of what the data is and where it came from. You can include the data dictionary in the notebook or in a separate file."
   ]
  },
  {
   "cell_type": "markdown",
   "metadata": {
    "editable": true
   },
   "source": [
    "#### Fact Table\n",
    "    immigration_df\n",
    "        id: id\n",
    "        state_code: state code of arrival city\n",
    "        city_code: city port code of arrival city\n",
    "        date: date of arrival\n",
    "        count: count of immigrant's entries into the US\n",
    "        \n",
    "#### Dimension Tables\n",
    "\n",
    "##### immigrant_df\n",
    "    id: id of immigrant\n",
    "    gender: gender of immigrant\n",
    "    age: age of immigrant\n",
    "    visa_type: immigrant's visa type\n",
    "\n",
    "\n",
    "##### monthly_city_temp_df\n",
    "    city_code: city port code\n",
    "    year: year\n",
    "    month: month \n",
    "    avg_temperature: average temperature in city for given month\n",
    "\n",
    "##### city_df\n",
    "    city_code: city port code\n",
    "    state_code: state code of the city\n",
    "    city_name: name of the city\n",
    "    median_age: median age of the city\n",
    "    pct_male_pop: city's male population in percentage\n",
    "    pct_female_pop: city's female population in percentage\n",
    "    pct_veterans: city's veteran population in percentage\n",
    "    pct_foreign_born: city's foreign born population in percentage\n",
    "    pct_native_american: city's native american population in percentage\n",
    "    pct_asian: city's asian population in percentage\n",
    "    pct_black: city's black population in percentage\n",
    "    pct_hispanic_or_latino: city's hispanic or latino population in percentage\n",
    "    pct_white: city's white population in percentage\n",
    "    total_pop: city's total population\n",
    "    lat: latitude of the city\n",
    "    long: longitude of the city\n",
    "\n",
    "##### time_df\n",
    "    date: date\n",
    "    dayofweek: day of the week\n",
    "    weekofyear: week of year\n",
    "    month: month\n",
    "\n"
   ]
  },
  {
   "cell_type": "markdown",
   "metadata": {
    "editable": true
   },
   "source": [
    "#### Step 5: Complete Project Write Up\n",
    "\n",
    "Pyspark is an interface for the Apache Spark in Python. It's not only allows you to write spark application using Python API. Pyspark support most of the spark's features such as Spark SQL, Dataframe, Streaming, MLib, and Spark Core. Pypark can read various different data types like csv,sas and parquet. \n",
    "\n",
    "\n",
    "The data update cycle is typically chosen on two criteria. One is the reporting cycle, the other is the availabilty of new data to be fed into the system. For example, if new batch of average temperature can be made available at monthly interval, we might settle for monthly data refreshing cycle.\n",
    "\n",
    "There are also considerations in terms of scaling existing solution.\n",
    "\n",
    "##### If the data was increased by 100x: We can select high instances of EC2s hosting Spark and/or additional Spark work nodes. With added capacity arising from either vertical scaling or horizontal scaling, we should be able to accelerate processing time.\n",
    "\n",
    "##### If the data populates a dashboard that must be updated on a daily basis by 7am every day: We can consider using Airflow to schedule and automate the data pipeline jobs. Built-in retry and monitoring mechanism can enable us to meet user requirement.\n",
    "\n",
    "##### If the database needed to be accessed by 100+ people: We can consider hosting our solution in production scale data warehouse in the cloud, with larger capacity to serve more users, and workload management to ensure equitable usage of resources across users."
   ]
  },
  {
   "cell_type": "code",
   "execution_count": 42,
   "metadata": {
    "editable": true
   },
   "outputs": [
    {
     "name": "stdout",
     "output_type": "stream",
     "text": [
      "root\n",
      " |-- date: string (nullable = true)\n",
      " |-- dayofweek: integer (nullable = true)\n",
      " |-- weekofyear: integer (nullable = true)\n",
      " |-- month: integer (nullable = true)\n",
      "\n"
     ]
    }
   ],
   "source": [
    "time_df.printSchema()"
   ]
  },
  {
   "cell_type": "code",
   "execution_count": 43,
   "metadata": {
    "editable": true
   },
   "outputs": [
    {
     "name": "stdout",
     "output_type": "stream",
     "text": [
      "root\n",
      " |-- id: double (nullable = true)\n",
      " |-- state_code: string (nullable = true)\n",
      " |-- city_code: string (nullable = true)\n",
      " |-- date: string (nullable = true)\n",
      " |-- count: double (nullable = true)\n",
      "\n"
     ]
    }
   ],
   "source": [
    "immigration_df.printSchema()"
   ]
  },
  {
   "cell_type": "code",
   "execution_count": 44,
   "metadata": {
    "editable": true
   },
   "outputs": [
    {
     "name": "stdout",
     "output_type": "stream",
     "text": [
      "root\n",
      " |-- city_code: string (nullable = true)\n",
      " |-- year: integer (nullable = true)\n",
      " |-- month: integer (nullable = true)\n",
      " |-- avg_temperature: float (nullable = true)\n",
      "\n"
     ]
    }
   ],
   "source": [
    "monthly_city_temp_df.printSchema()"
   ]
  },
  {
   "cell_type": "code",
   "execution_count": 45,
   "metadata": {
    "editable": true
   },
   "outputs": [
    {
     "name": "stdout",
     "output_type": "stream",
     "text": [
      "root\n",
      " |-- city_code: string (nullable = true)\n",
      " |-- state_code: string (nullable = true)\n",
      " |-- city_name: string (nullable = true)\n",
      " |-- median_age: string (nullable = true)\n",
      " |-- pct_male_pop: double (nullable = true)\n",
      " |-- pct_female_pop: double (nullable = true)\n",
      " |-- pct_veterans: double (nullable = true)\n",
      " |-- pct_foreign_born: double (nullable = true)\n",
      " |-- pct_native_american: double (nullable = true)\n",
      " |-- pct_asian: double (nullable = true)\n",
      " |-- pct_black: double (nullable = true)\n",
      " |-- pct_hispanic_or_latino: double (nullable = true)\n",
      " |-- pct_white: double (nullable = true)\n",
      " |-- total_pop: string (nullable = true)\n",
      " |-- lat: string (nullable = true)\n",
      " |-- long: string (nullable = true)\n",
      "\n"
     ]
    }
   ],
   "source": [
    "city_df.printSchema()\n",
    "\n"
   ]
  },
  {
   "cell_type": "code",
   "execution_count": 46,
   "metadata": {
    "editable": true
   },
   "outputs": [
    {
     "data": {
      "text/plain": [
       "[Row(city_code='BRO', date='20568.0', count=1.0, city_name='Brownsville', median_age='30.6', pct_male_pop=47.7),\n",
       " Row(city_code='BRO', date='20545.0', count=1.0, city_name='Brownsville', median_age='30.6', pct_male_pop=47.7),\n",
       " Row(city_code='BRO', date='20567.0', count=1.0, city_name='Brownsville', median_age='30.6', pct_male_pop=47.7),\n",
       " Row(city_code='BRO', date='20572.0', count=1.0, city_name='Brownsville', median_age='30.6', pct_male_pop=47.7),\n",
       " Row(city_code='BRO', date='20573.0', count=1.0, city_name='Brownsville', median_age='30.6', pct_male_pop=47.7),\n",
       " Row(city_code='BRO', date='20565.0', count=1.0, city_name='Brownsville', median_age='30.6', pct_male_pop=47.7),\n",
       " Row(city_code='BRO', date='20571.0', count=1.0, city_name='Brownsville', median_age='30.6', pct_male_pop=47.7),\n",
       " Row(city_code='BRO', date='20554.0', count=1.0, city_name='Brownsville', median_age='30.6', pct_male_pop=47.7),\n",
       " Row(city_code='BRO', date='20551.0', count=1.0, city_name='Brownsville', median_age='30.6', pct_male_pop=47.7),\n",
       " Row(city_code='BRO', date='20553.0', count=1.0, city_name='Brownsville', median_age='30.6', pct_male_pop=47.7),\n",
       " Row(city_code='BRO', date='20548.0', count=1.0, city_name='Brownsville', median_age='30.6', pct_male_pop=47.7),\n",
       " Row(city_code='BRO', date='20549.0', count=1.0, city_name='Brownsville', median_age='30.6', pct_male_pop=47.7),\n",
       " Row(city_code='BRO', date='20547.0', count=1.0, city_name='Brownsville', median_age='30.6', pct_male_pop=47.7),\n",
       " Row(city_code='BRO', date='20551.0', count=1.0, city_name='Brownsville', median_age='30.6', pct_male_pop=47.7),\n",
       " Row(city_code='BRO', date='20572.0', count=1.0, city_name='Brownsville', median_age='30.6', pct_male_pop=47.7),\n",
       " Row(city_code='BRO', date='20558.0', count=1.0, city_name='Brownsville', median_age='30.6', pct_male_pop=47.7),\n",
       " Row(city_code='BRO', date='20548.0', count=1.0, city_name='Brownsville', median_age='30.6', pct_male_pop=47.7),\n",
       " Row(city_code='BRO', date='20572.0', count=1.0, city_name='Brownsville', median_age='30.6', pct_male_pop=47.7),\n",
       " Row(city_code='BRO', date='20546.0', count=1.0, city_name='Brownsville', median_age='30.6', pct_male_pop=47.7),\n",
       " Row(city_code='BRO', date='20567.0', count=1.0, city_name='Brownsville', median_age='30.6', pct_male_pop=47.7),\n",
       " Row(city_code='BRO', date='20573.0', count=1.0, city_name='Brownsville', median_age='30.6', pct_male_pop=47.7),\n",
       " Row(city_code='BRO', date='20567.0', count=1.0, city_name='Brownsville', median_age='30.6', pct_male_pop=47.7),\n",
       " Row(city_code='BRO', date='20574.0', count=1.0, city_name='Brownsville', median_age='30.6', pct_male_pop=47.7),\n",
       " Row(city_code='BRO', date='20550.0', count=1.0, city_name='Brownsville', median_age='30.6', pct_male_pop=47.7),\n",
       " Row(city_code='BRO', date='20547.0', count=1.0, city_name='Brownsville', median_age='30.6', pct_male_pop=47.7),\n",
       " Row(city_code='BRO', date='20562.0', count=1.0, city_name='Brownsville', median_age='30.6', pct_male_pop=47.7),\n",
       " Row(city_code='BRO', date='20556.0', count=1.0, city_name='Brownsville', median_age='30.6', pct_male_pop=47.7),\n",
       " Row(city_code='BRO', date='20546.0', count=1.0, city_name='Brownsville', median_age='30.6', pct_male_pop=47.7),\n",
       " Row(city_code='BRO', date='20547.0', count=1.0, city_name='Brownsville', median_age='30.6', pct_male_pop=47.7),\n",
       " Row(city_code='BRO', date='20558.0', count=1.0, city_name='Brownsville', median_age='30.6', pct_male_pop=47.7),\n",
       " Row(city_code='BRO', date='20556.0', count=1.0, city_name='Brownsville', median_age='30.6', pct_male_pop=47.7),\n",
       " Row(city_code='BRO', date='20572.0', count=1.0, city_name='Brownsville', median_age='30.6', pct_male_pop=47.7),\n",
       " Row(city_code='BRO', date='20548.0', count=1.0, city_name='Brownsville', median_age='30.6', pct_male_pop=47.7),\n",
       " Row(city_code='BRO', date='20558.0', count=1.0, city_name='Brownsville', median_age='30.6', pct_male_pop=47.7),\n",
       " Row(city_code='BRO', date='20547.0', count=1.0, city_name='Brownsville', median_age='30.6', pct_male_pop=47.7),\n",
       " Row(city_code='BRO', date='20572.0', count=1.0, city_name='Brownsville', median_age='30.6', pct_male_pop=47.7),\n",
       " Row(city_code='BRO', date='20551.0', count=1.0, city_name='Brownsville', median_age='30.6', pct_male_pop=47.7),\n",
       " Row(city_code='BRO', date='20545.0', count=1.0, city_name='Brownsville', median_age='30.6', pct_male_pop=47.7),\n",
       " Row(city_code='BRO', date='20573.0', count=1.0, city_name='Brownsville', median_age='30.6', pct_male_pop=47.7),\n",
       " Row(city_code='BRO', date='20545.0', count=1.0, city_name='Brownsville', median_age='30.6', pct_male_pop=47.7),\n",
       " Row(city_code='BRO', date='20548.0', count=1.0, city_name='Brownsville', median_age='30.6', pct_male_pop=47.7),\n",
       " Row(city_code='BRO', date='20573.0', count=1.0, city_name='Brownsville', median_age='30.6', pct_male_pop=47.7),\n",
       " Row(city_code='BRO', date='20556.0', count=1.0, city_name='Brownsville', median_age='30.6', pct_male_pop=47.7),\n",
       " Row(city_code='BRO', date='20560.0', count=1.0, city_name='Brownsville', median_age='30.6', pct_male_pop=47.7),\n",
       " Row(city_code='BRO', date='20558.0', count=1.0, city_name='Brownsville', median_age='30.6', pct_male_pop=47.7),\n",
       " Row(city_code='BRO', date='20574.0', count=1.0, city_name='Brownsville', median_age='30.6', pct_male_pop=47.7),\n",
       " Row(city_code='BRO', date='20572.0', count=1.0, city_name='Brownsville', median_age='30.6', pct_male_pop=47.7),\n",
       " Row(city_code='BRO', date='20557.0', count=1.0, city_name='Brownsville', median_age='30.6', pct_male_pop=47.7),\n",
       " Row(city_code='BRO', date='20548.0', count=1.0, city_name='Brownsville', median_age='30.6', pct_male_pop=47.7),\n",
       " Row(city_code='BRO', date='20560.0', count=1.0, city_name='Brownsville', median_age='30.6', pct_male_pop=47.7),\n",
       " Row(city_code='BRO', date='20554.0', count=1.0, city_name='Brownsville', median_age='30.6', pct_male_pop=47.7),\n",
       " Row(city_code='BRO', date='20546.0', count=1.0, city_name='Brownsville', median_age='30.6', pct_male_pop=47.7),\n",
       " Row(city_code='BRO', date='20572.0', count=1.0, city_name='Brownsville', median_age='30.6', pct_male_pop=47.7),\n",
       " Row(city_code='BRO', date='20572.0', count=1.0, city_name='Brownsville', median_age='30.6', pct_male_pop=47.7),\n",
       " Row(city_code='BRO', date='20568.0', count=1.0, city_name='Brownsville', median_age='30.6', pct_male_pop=47.7),\n",
       " Row(city_code='BRO', date='20559.0', count=1.0, city_name='Brownsville', median_age='30.6', pct_male_pop=47.7),\n",
       " Row(city_code='BRO', date='20557.0', count=1.0, city_name='Brownsville', median_age='30.6', pct_male_pop=47.7),\n",
       " Row(city_code='BRO', date='20557.0', count=1.0, city_name='Brownsville', median_age='30.6', pct_male_pop=47.7),\n",
       " Row(city_code='BRO', date='20558.0', count=1.0, city_name='Brownsville', median_age='30.6', pct_male_pop=47.7),\n",
       " Row(city_code='BRO', date='20549.0', count=1.0, city_name='Brownsville', median_age='30.6', pct_male_pop=47.7),\n",
       " Row(city_code='BRO', date='20548.0', count=1.0, city_name='Brownsville', median_age='30.6', pct_male_pop=47.7),\n",
       " Row(city_code='BRO', date='20558.0', count=1.0, city_name='Brownsville', median_age='30.6', pct_male_pop=47.7),\n",
       " Row(city_code='BRO', date='20558.0', count=1.0, city_name='Brownsville', median_age='30.6', pct_male_pop=47.7),\n",
       " Row(city_code='BRO', date='20564.0', count=1.0, city_name='Brownsville', median_age='30.6', pct_male_pop=47.7),\n",
       " Row(city_code='BRO', date='20552.0', count=1.0, city_name='Brownsville', median_age='30.6', pct_male_pop=47.7),\n",
       " Row(city_code='BRO', date='20572.0', count=1.0, city_name='Brownsville', median_age='30.6', pct_male_pop=47.7),\n",
       " Row(city_code='BRO', date='20556.0', count=1.0, city_name='Brownsville', median_age='30.6', pct_male_pop=47.7),\n",
       " Row(city_code='BRO', date='20572.0', count=1.0, city_name='Brownsville', median_age='30.6', pct_male_pop=47.7),\n",
       " Row(city_code='BRO', date='20566.0', count=1.0, city_name='Brownsville', median_age='30.6', pct_male_pop=47.7),\n",
       " Row(city_code='BRO', date='20573.0', count=1.0, city_name='Brownsville', median_age='30.6', pct_male_pop=47.7),\n",
       " Row(city_code='BRO', date='20571.0', count=1.0, city_name='Brownsville', median_age='30.6', pct_male_pop=47.7),\n",
       " Row(city_code='BRO', date='20566.0', count=1.0, city_name='Brownsville', median_age='30.6', pct_male_pop=47.7),\n",
       " Row(city_code='BRO', date='20571.0', count=1.0, city_name='Brownsville', median_age='30.6', pct_male_pop=47.7),\n",
       " Row(city_code='BRO', date='20566.0', count=1.0, city_name='Brownsville', median_age='30.6', pct_male_pop=47.7),\n",
       " Row(city_code='BRO', date='20573.0', count=1.0, city_name='Brownsville', median_age='30.6', pct_male_pop=47.7),\n",
       " Row(city_code='BRO', date='20572.0', count=1.0, city_name='Brownsville', median_age='30.6', pct_male_pop=47.7),\n",
       " Row(city_code='BRO', date='20556.0', count=1.0, city_name='Brownsville', median_age='30.6', pct_male_pop=47.7),\n",
       " Row(city_code='BRO', date='20562.0', count=1.0, city_name='Brownsville', median_age='30.6', pct_male_pop=47.7),\n",
       " Row(city_code='BRO', date='20567.0', count=1.0, city_name='Brownsville', median_age='30.6', pct_male_pop=47.7),\n",
       " Row(city_code='BRO', date='20566.0', count=1.0, city_name='Brownsville', median_age='30.6', pct_male_pop=47.7),\n",
       " Row(city_code='BRO', date='20547.0', count=1.0, city_name='Brownsville', median_age='30.6', pct_male_pop=47.7),\n",
       " Row(city_code='BRO', date='20563.0', count=1.0, city_name='Brownsville', median_age='30.6', pct_male_pop=47.7),\n",
       " Row(city_code='BRO', date='20548.0', count=1.0, city_name='Brownsville', median_age='30.6', pct_male_pop=47.7),\n",
       " Row(city_code='BRO', date='20567.0', count=1.0, city_name='Brownsville', median_age='30.6', pct_male_pop=47.7),\n",
       " Row(city_code='BRO', date='20573.0', count=1.0, city_name='Brownsville', median_age='30.6', pct_male_pop=47.7),\n",
       " Row(city_code='BRO', date='20561.0', count=1.0, city_name='Brownsville', median_age='30.6', pct_male_pop=47.7),\n",
       " Row(city_code='BRO', date='20554.0', count=1.0, city_name='Brownsville', median_age='30.6', pct_male_pop=47.7),\n",
       " Row(city_code='BRO', date='20562.0', count=1.0, city_name='Brownsville', median_age='30.6', pct_male_pop=47.7),\n",
       " Row(city_code='BRO', date='20553.0', count=1.0, city_name='Brownsville', median_age='30.6', pct_male_pop=47.7),\n",
       " Row(city_code='BRO', date='20566.0', count=1.0, city_name='Brownsville', median_age='30.6', pct_male_pop=47.7),\n",
       " Row(city_code='BRO', date='20572.0', count=1.0, city_name='Brownsville', median_age='30.6', pct_male_pop=47.7),\n",
       " Row(city_code='BRO', date='20554.0', count=1.0, city_name='Brownsville', median_age='30.6', pct_male_pop=47.7),\n",
       " Row(city_code='BRO', date='20566.0', count=1.0, city_name='Brownsville', median_age='30.6', pct_male_pop=47.7),\n",
       " Row(city_code='BRO', date='20572.0', count=1.0, city_name='Brownsville', median_age='30.6', pct_male_pop=47.7),\n",
       " Row(city_code='BRO', date='20567.0', count=1.0, city_name='Brownsville', median_age='30.6', pct_male_pop=47.7),\n",
       " Row(city_code='BRO', date='20547.0', count=1.0, city_name='Brownsville', median_age='30.6', pct_male_pop=47.7),\n",
       " Row(city_code='BRO', date='20547.0', count=1.0, city_name='Brownsville', median_age='30.6', pct_male_pop=47.7),\n",
       " Row(city_code='BRO', date='20561.0', count=1.0, city_name='Brownsville', median_age='30.6', pct_male_pop=47.7),\n",
       " Row(city_code='BRO', date='20572.0', count=1.0, city_name='Brownsville', median_age='30.6', pct_male_pop=47.7),\n",
       " Row(city_code='BRO', date='20545.0', count=1.0, city_name='Brownsville', median_age='30.6', pct_male_pop=47.7),\n",
       " Row(city_code='BRO', date='20566.0', count=1.0, city_name='Brownsville', median_age='30.6', pct_male_pop=47.7),\n",
       " Row(city_code='BRO', date='20573.0', count=1.0, city_name='Brownsville', median_age='30.6', pct_male_pop=47.7),\n",
       " Row(city_code='BRO', date='20547.0', count=1.0, city_name='Brownsville', median_age='30.6', pct_male_pop=47.7),\n",
       " Row(city_code='BRO', date='20558.0', count=1.0, city_name='Brownsville', median_age='30.6', pct_male_pop=47.7),\n",
       " Row(city_code='BRO', date='20547.0', count=1.0, city_name='Brownsville', median_age='30.6', pct_male_pop=47.7),\n",
       " Row(city_code='BRO', date='20547.0', count=1.0, city_name='Brownsville', median_age='30.6', pct_male_pop=47.7),\n",
       " Row(city_code='BRO', date='20553.0', count=1.0, city_name='Brownsville', median_age='30.6', pct_male_pop=47.7),\n",
       " Row(city_code='BRO', date='20556.0', count=1.0, city_name='Brownsville', median_age='30.6', pct_male_pop=47.7),\n",
       " Row(city_code='BRO', date='20545.0', count=1.0, city_name='Brownsville', median_age='30.6', pct_male_pop=47.7),\n",
       " Row(city_code='BRO', date='20561.0', count=1.0, city_name='Brownsville', median_age='30.6', pct_male_pop=47.7),\n",
       " Row(city_code='BRO', date='20566.0', count=1.0, city_name='Brownsville', median_age='30.6', pct_male_pop=47.7),\n",
       " Row(city_code='BRO', date='20545.0', count=1.0, city_name='Brownsville', median_age='30.6', pct_male_pop=47.7),\n",
       " Row(city_code='BRO', date='20572.0', count=1.0, city_name='Brownsville', median_age='30.6', pct_male_pop=47.7),\n",
       " Row(city_code='BRO', date='20572.0', count=1.0, city_name='Brownsville', median_age='30.6', pct_male_pop=47.7),\n",
       " Row(city_code='BRO', date='20558.0', count=1.0, city_name='Brownsville', median_age='30.6', pct_male_pop=47.7),\n",
       " Row(city_code='BRO', date='20550.0', count=1.0, city_name='Brownsville', median_age='30.6', pct_male_pop=47.7),\n",
       " Row(city_code='BRO', date='20566.0', count=1.0, city_name='Brownsville', median_age='30.6', pct_male_pop=47.7),\n",
       " Row(city_code='BRO', date='20567.0', count=1.0, city_name='Brownsville', median_age='30.6', pct_male_pop=47.7),\n",
       " Row(city_code='BRO', date='20573.0', count=1.0, city_name='Brownsville', median_age='30.6', pct_male_pop=47.7),\n",
       " Row(city_code='BRO', date='20568.0', count=1.0, city_name='Brownsville', median_age='30.6', pct_male_pop=47.7),\n",
       " Row(city_code='BRO', date='20548.0', count=1.0, city_name='Brownsville', median_age='30.6', pct_male_pop=47.7),\n",
       " Row(city_code='BRO', date='20545.0', count=1.0, city_name='Brownsville', median_age='30.6', pct_male_pop=47.7),\n",
       " Row(city_code='BRO', date='20560.0', count=1.0, city_name='Brownsville', median_age='30.6', pct_male_pop=47.7),\n",
       " Row(city_code='BRO', date='20558.0', count=1.0, city_name='Brownsville', median_age='30.6', pct_male_pop=47.7),\n",
       " Row(city_code='BRO', date='20572.0', count=1.0, city_name='Brownsville', median_age='30.6', pct_male_pop=47.7),\n",
       " Row(city_code='BRO', date='20555.0', count=1.0, city_name='Brownsville', median_age='30.6', pct_male_pop=47.7),\n",
       " Row(city_code='BRO', date='20562.0', count=1.0, city_name='Brownsville', median_age='30.6', pct_male_pop=47.7),\n",
       " Row(city_code='BRO', date='20560.0', count=1.0, city_name='Brownsville', median_age='30.6', pct_male_pop=47.7),\n",
       " Row(city_code='BRO', date='20551.0', count=1.0, city_name='Brownsville', median_age='30.6', pct_male_pop=47.7),\n",
       " Row(city_code='BRO', date='20556.0', count=1.0, city_name='Brownsville', median_age='30.6', pct_male_pop=47.7),\n",
       " Row(city_code='BRO', date='20572.0', count=1.0, city_name='Brownsville', median_age='30.6', pct_male_pop=47.7),\n",
       " Row(city_code='BRO', date='20572.0', count=1.0, city_name='Brownsville', median_age='30.6', pct_male_pop=47.7),\n",
       " Row(city_code='BRO', date='20571.0', count=1.0, city_name='Brownsville', median_age='30.6', pct_male_pop=47.7),\n",
       " Row(city_code='BRO', date='20560.0', count=1.0, city_name='Brownsville', median_age='30.6', pct_male_pop=47.7),\n",
       " Row(city_code='BRO', date='20560.0', count=1.0, city_name='Brownsville', median_age='30.6', pct_male_pop=47.7),\n",
       " Row(city_code='BRO', date='20560.0', count=1.0, city_name='Brownsville', median_age='30.6', pct_male_pop=47.7),\n",
       " Row(city_code='BRO', date='20572.0', count=1.0, city_name='Brownsville', median_age='30.6', pct_male_pop=47.7),\n",
       " Row(city_code='BRO', date='20548.0', count=1.0, city_name='Brownsville', median_age='30.6', pct_male_pop=47.7),\n",
       " Row(city_code='BRO', date='20558.0', count=1.0, city_name='Brownsville', median_age='30.6', pct_male_pop=47.7),\n",
       " Row(city_code='BRO', date='20558.0', count=1.0, city_name='Brownsville', median_age='30.6', pct_male_pop=47.7),\n",
       " Row(city_code='BRO', date='20572.0', count=1.0, city_name='Brownsville', median_age='30.6', pct_male_pop=47.7),\n",
       " Row(city_code='BRO', date='20552.0', count=1.0, city_name='Brownsville', median_age='30.6', pct_male_pop=47.7),\n",
       " Row(city_code='BRO', date='20554.0', count=1.0, city_name='Brownsville', median_age='30.6', pct_male_pop=47.7),\n",
       " Row(city_code='BRO', date='20561.0', count=1.0, city_name='Brownsville', median_age='30.6', pct_male_pop=47.7),\n",
       " Row(city_code='BRO', date='20572.0', count=1.0, city_name='Brownsville', median_age='30.6', pct_male_pop=47.7),\n",
       " Row(city_code='BRO', date='20565.0', count=1.0, city_name='Brownsville', median_age='30.6', pct_male_pop=47.7),\n",
       " Row(city_code='BRO', date='20572.0', count=1.0, city_name='Brownsville', median_age='30.6', pct_male_pop=47.7),\n",
       " Row(city_code='BRO', date='20548.0', count=1.0, city_name='Brownsville', median_age='30.6', pct_male_pop=47.7),\n",
       " Row(city_code='BRO', date='20574.0', count=1.0, city_name='Brownsville', median_age='30.6', pct_male_pop=47.7),\n",
       " Row(city_code='BRO', date='20566.0', count=1.0, city_name='Brownsville', median_age='30.6', pct_male_pop=47.7),\n",
       " Row(city_code='BRO', date='20572.0', count=1.0, city_name='Brownsville', median_age='30.6', pct_male_pop=47.7),\n",
       " Row(city_code='BRO', date='20565.0', count=1.0, city_name='Brownsville', median_age='30.6', pct_male_pop=47.7),\n",
       " Row(city_code='BRO', date='20557.0', count=1.0, city_name='Brownsville', median_age='30.6', pct_male_pop=47.7),\n",
       " Row(city_code='BRO', date='20551.0', count=1.0, city_name='Brownsville', median_age='30.6', pct_male_pop=47.7),\n",
       " Row(city_code='BRO', date='20564.0', count=1.0, city_name='Brownsville', median_age='30.6', pct_male_pop=47.7),\n",
       " Row(city_code='BRO', date='20558.0', count=1.0, city_name='Brownsville', median_age='30.6', pct_male_pop=47.7),\n",
       " Row(city_code='BRO', date='20565.0', count=1.0, city_name='Brownsville', median_age='30.6', pct_male_pop=47.7),\n",
       " Row(city_code='BRO', date='20566.0', count=1.0, city_name='Brownsville', median_age='30.6', pct_male_pop=47.7),\n",
       " Row(city_code='BRO', date='20572.0', count=1.0, city_name='Brownsville', median_age='30.6', pct_male_pop=47.7),\n",
       " Row(city_code='BRO', date='20548.0', count=1.0, city_name='Brownsville', median_age='30.6', pct_male_pop=47.7),\n",
       " Row(city_code='BRO', date='20559.0', count=1.0, city_name='Brownsville', median_age='30.6', pct_male_pop=47.7),\n",
       " Row(city_code='BRO', date='20572.0', count=1.0, city_name='Brownsville', median_age='30.6', pct_male_pop=47.7),\n",
       " Row(city_code='BRO', date='20556.0', count=1.0, city_name='Brownsville', median_age='30.6', pct_male_pop=47.7),\n",
       " Row(city_code='BRO', date='20561.0', count=1.0, city_name='Brownsville', median_age='30.6', pct_male_pop=47.7),\n",
       " Row(city_code='BRO', date='20562.0', count=1.0, city_name='Brownsville', median_age='30.6', pct_male_pop=47.7),\n",
       " Row(city_code='BRO', date='20565.0', count=1.0, city_name='Brownsville', median_age='30.6', pct_male_pop=47.7),\n",
       " Row(city_code='BRO', date='20566.0', count=1.0, city_name='Brownsville', median_age='30.6', pct_male_pop=47.7),\n",
       " Row(city_code='BRO', date='20573.0', count=1.0, city_name='Brownsville', median_age='30.6', pct_male_pop=47.7),\n",
       " Row(city_code='BRO', date='20548.0', count=1.0, city_name='Brownsville', median_age='30.6', pct_male_pop=47.7),\n",
       " Row(city_code='BRO', date='20548.0', count=1.0, city_name='Brownsville', median_age='30.6', pct_male_pop=47.7),\n",
       " Row(city_code='BRO', date='20566.0', count=1.0, city_name='Brownsville', median_age='30.6', pct_male_pop=47.7),\n",
       " Row(city_code='BRO', date='20555.0', count=1.0, city_name='Brownsville', median_age='30.6', pct_male_pop=47.7),\n",
       " Row(city_code='BRO', date='20548.0', count=1.0, city_name='Brownsville', median_age='30.6', pct_male_pop=47.7),\n",
       " Row(city_code='BRO', date='20550.0', count=1.0, city_name='Brownsville', median_age='30.6', pct_male_pop=47.7),\n",
       " Row(city_code='BRO', date='20572.0', count=1.0, city_name='Brownsville', median_age='30.6', pct_male_pop=47.7),\n",
       " Row(city_code='BRO', date='20572.0', count=1.0, city_name='Brownsville', median_age='30.6', pct_male_pop=47.7),\n",
       " Row(city_code='BRO', date='20574.0', count=1.0, city_name='Brownsville', median_age='30.6', pct_male_pop=47.7),\n",
       " Row(city_code='BRO', date='20567.0', count=1.0, city_name='Brownsville', median_age='30.6', pct_male_pop=47.7),\n",
       " Row(city_code='BRO', date='20572.0', count=1.0, city_name='Brownsville', median_age='30.6', pct_male_pop=47.7),\n",
       " Row(city_code='BRO', date='20573.0', count=1.0, city_name='Brownsville', median_age='30.6', pct_male_pop=47.7),\n",
       " Row(city_code='BRO', date='20573.0', count=1.0, city_name='Brownsville', median_age='30.6', pct_male_pop=47.7),\n",
       " Row(city_code='BRO', date='20556.0', count=1.0, city_name='Brownsville', median_age='30.6', pct_male_pop=47.7),\n",
       " Row(city_code='BRO', date='20563.0', count=1.0, city_name='Brownsville', median_age='30.6', pct_male_pop=47.7),\n",
       " Row(city_code='BRO', date='20558.0', count=1.0, city_name='Brownsville', median_age='30.6', pct_male_pop=47.7),\n",
       " Row(city_code='BRO', date='20572.0', count=1.0, city_name='Brownsville', median_age='30.6', pct_male_pop=47.7),\n",
       " Row(city_code='BRO', date='20551.0', count=1.0, city_name='Brownsville', median_age='30.6', pct_male_pop=47.7),\n",
       " Row(city_code='BRO', date='20556.0', count=1.0, city_name='Brownsville', median_age='30.6', pct_male_pop=47.7),\n",
       " Row(city_code='BRO', date='20573.0', count=1.0, city_name='Brownsville', median_age='30.6', pct_male_pop=47.7),\n",
       " Row(city_code='BRO', date='20565.0', count=1.0, city_name='Brownsville', median_age='30.6', pct_male_pop=47.7),\n",
       " Row(city_code='BRO', date='20566.0', count=1.0, city_name='Brownsville', median_age='30.6', pct_male_pop=47.7),\n",
       " Row(city_code='BRO', date='20572.0', count=1.0, city_name='Brownsville', median_age='30.6', pct_male_pop=47.7),\n",
       " Row(city_code='BRO', date='20551.0', count=1.0, city_name='Brownsville', median_age='30.6', pct_male_pop=47.7),\n",
       " Row(city_code='BRO', date='20565.0', count=1.0, city_name='Brownsville', median_age='30.6', pct_male_pop=47.7),\n",
       " Row(city_code='BRO', date='20565.0', count=1.0, city_name='Brownsville', median_age='30.6', pct_male_pop=47.7),\n",
       " Row(city_code='BRO', date='20571.0', count=1.0, city_name='Brownsville', median_age='30.6', pct_male_pop=47.7),\n",
       " Row(city_code='BRO', date='20566.0', count=1.0, city_name='Brownsville', median_age='30.6', pct_male_pop=47.7),\n",
       " Row(city_code='BRO', date='20572.0', count=1.0, city_name='Brownsville', median_age='30.6', pct_male_pop=47.7),\n",
       " Row(city_code='BRO', date='20548.0', count=1.0, city_name='Brownsville', median_age='30.6', pct_male_pop=47.7),\n",
       " Row(city_code='BRO', date='20555.0', count=1.0, city_name='Brownsville', median_age='30.6', pct_male_pop=47.7),\n",
       " Row(city_code='BRO', date='20547.0', count=1.0, city_name='Brownsville', median_age='30.6', pct_male_pop=47.7),\n",
       " Row(city_code='BRO', date='20560.0', count=1.0, city_name='Brownsville', median_age='30.6', pct_male_pop=47.7),\n",
       " Row(city_code='BRO', date='20557.0', count=1.0, city_name='Brownsville', median_age='30.6', pct_male_pop=47.7),\n",
       " Row(city_code='BRO', date='20556.0', count=1.0, city_name='Brownsville', median_age='30.6', pct_male_pop=47.7),\n",
       " Row(city_code='BRO', date='20572.0', count=1.0, city_name='Brownsville', median_age='30.6', pct_male_pop=47.7),\n",
       " Row(city_code='BRO', date='20545.0', count=1.0, city_name='Brownsville', median_age='30.6', pct_male_pop=47.7),\n",
       " Row(city_code='BRO', date='20572.0', count=1.0, city_name='Brownsville', median_age='30.6', pct_male_pop=47.7),\n",
       " Row(city_code='BRO', date='20549.0', count=1.0, city_name='Brownsville', median_age='30.6', pct_male_pop=47.7),\n",
       " Row(city_code='BRO', date='20560.0', count=1.0, city_name='Brownsville', median_age='30.6', pct_male_pop=47.7),\n",
       " Row(city_code='BRO', date='20561.0', count=1.0, city_name='Brownsville', median_age='30.6', pct_male_pop=47.7),\n",
       " Row(city_code='BRO', date='20554.0', count=1.0, city_name='Brownsville', median_age='30.6', pct_male_pop=47.7),\n",
       " Row(city_code='BRO', date='20565.0', count=1.0, city_name='Brownsville', median_age='30.6', pct_male_pop=47.7),\n",
       " Row(city_code='BRO', date='20552.0', count=1.0, city_name='Brownsville', median_age='30.6', pct_male_pop=47.7),\n",
       " Row(city_code='BRO', date='20565.0', count=1.0, city_name='Brownsville', median_age='30.6', pct_male_pop=47.7),\n",
       " Row(city_code='BRO', date='20556.0', count=1.0, city_name='Brownsville', median_age='30.6', pct_male_pop=47.7),\n",
       " Row(city_code='BRO', date='20547.0', count=1.0, city_name='Brownsville', median_age='30.6', pct_male_pop=47.7),\n",
       " Row(city_code='BRO', date='20565.0', count=1.0, city_name='Brownsville', median_age='30.6', pct_male_pop=47.7),\n",
       " Row(city_code='BRO', date='20571.0', count=1.0, city_name='Brownsville', median_age='30.6', pct_male_pop=47.7),\n",
       " Row(city_code='BRO', date='20572.0', count=1.0, city_name='Brownsville', median_age='30.6', pct_male_pop=47.7),\n",
       " Row(city_code='BRO', date='20548.0', count=1.0, city_name='Brownsville', median_age='30.6', pct_male_pop=47.7),\n",
       " Row(city_code='BRO', date='20572.0', count=1.0, city_name='Brownsville', median_age='30.6', pct_male_pop=47.7),\n",
       " Row(city_code='BRO', date='20572.0', count=1.0, city_name='Brownsville', median_age='30.6', pct_male_pop=47.7),\n",
       " Row(city_code='BRO', date='20572.0', count=1.0, city_name='Brownsville', median_age='30.6', pct_male_pop=47.7),\n",
       " Row(city_code='BRO', date='20559.0', count=1.0, city_name='Brownsville', median_age='30.6', pct_male_pop=47.7),\n",
       " Row(city_code='BRO', date='20572.0', count=1.0, city_name='Brownsville', median_age='30.6', pct_male_pop=47.7),\n",
       " Row(city_code='BRO', date='20572.0', count=1.0, city_name='Brownsville', median_age='30.6', pct_male_pop=47.7),\n",
       " Row(city_code='BRO', date='20557.0', count=1.0, city_name='Brownsville', median_age='30.6', pct_male_pop=47.7),\n",
       " Row(city_code='BRO', date='20560.0', count=1.0, city_name='Brownsville', median_age='30.6', pct_male_pop=47.7),\n",
       " Row(city_code='BRO', date='20562.0', count=1.0, city_name='Brownsville', median_age='30.6', pct_male_pop=47.7),\n",
       " Row(city_code='BRO', date='20547.0', count=1.0, city_name='Brownsville', median_age='30.6', pct_male_pop=47.7),\n",
       " Row(city_code='BRO', date='20573.0', count=1.0, city_name='Brownsville', median_age='30.6', pct_male_pop=47.7),\n",
       " Row(city_code='BRO', date='20566.0', count=1.0, city_name='Brownsville', median_age='30.6', pct_male_pop=47.7),\n",
       " Row(city_code='BRO', date='20565.0', count=1.0, city_name='Brownsville', median_age='30.6', pct_male_pop=47.7),\n",
       " Row(city_code='BRO', date='20554.0', count=1.0, city_name='Brownsville', median_age='30.6', pct_male_pop=47.7),\n",
       " Row(city_code='BRO', date='20562.0', count=1.0, city_name='Brownsville', median_age='30.6', pct_male_pop=47.7),\n",
       " Row(city_code='BRO', date='20556.0', count=1.0, city_name='Brownsville', median_age='30.6', pct_male_pop=47.7),\n",
       " Row(city_code='BRO', date='20548.0', count=1.0, city_name='Brownsville', median_age='30.6', pct_male_pop=47.7),\n",
       " Row(city_code='BRO', date='20567.0', count=1.0, city_name='Brownsville', median_age='30.6', pct_male_pop=47.7),\n",
       " Row(city_code='BRO', date='20560.0', count=1.0, city_name='Brownsville', median_age='30.6', pct_male_pop=47.7),\n",
       " Row(city_code='BRO', date='20551.0', count=1.0, city_name='Brownsville', median_age='30.6', pct_male_pop=47.7),\n",
       " Row(city_code='BRO', date='20566.0', count=1.0, city_name='Brownsville', median_age='30.6', pct_male_pop=47.7),\n",
       " Row(city_code='BRO', date='20573.0', count=1.0, city_name='Brownsville', median_age='30.6', pct_male_pop=47.7),\n",
       " Row(city_code='BRO', date='20556.0', count=1.0, city_name='Brownsville', median_age='30.6', pct_male_pop=47.7),\n",
       " Row(city_code='BRO', date='20572.0', count=1.0, city_name='Brownsville', median_age='30.6', pct_male_pop=47.7),\n",
       " Row(city_code='BRO', date='20546.0', count=1.0, city_name='Brownsville', median_age='30.6', pct_male_pop=47.7),\n",
       " Row(city_code='BRO', date='20570.0', count=1.0, city_name='Brownsville', median_age='30.6', pct_male_pop=47.7),\n",
       " Row(city_code='BRO', date='20563.0', count=1.0, city_name='Brownsville', median_age='30.6', pct_male_pop=47.7),\n",
       " Row(city_code='BRO', date='20548.0', count=1.0, city_name='Brownsville', median_age='30.6', pct_male_pop=47.7),\n",
       " Row(city_code='BRO', date='20547.0', count=1.0, city_name='Brownsville', median_age='30.6', pct_male_pop=47.7),\n",
       " Row(city_code='BRO', date='20572.0', count=1.0, city_name='Brownsville', median_age='30.6', pct_male_pop=47.7),\n",
       " Row(city_code='BRO', date='20567.0', count=1.0, city_name='Brownsville', median_age='30.6', pct_male_pop=47.7),\n",
       " Row(city_code='BRO', date='20563.0', count=1.0, city_name='Brownsville', median_age='30.6', pct_male_pop=47.7),\n",
       " Row(city_code='BRO', date='20562.0', count=1.0, city_name='Brownsville', median_age='30.6', pct_male_pop=47.7),\n",
       " Row(city_code='BRO', date='20572.0', count=1.0, city_name='Brownsville', median_age='30.6', pct_male_pop=47.7),\n",
       " Row(city_code='BRO', date='20567.0', count=1.0, city_name='Brownsville', median_age='30.6', pct_male_pop=47.7),\n",
       " Row(city_code='BRO', date='20569.0', count=1.0, city_name='Brownsville', median_age='30.6', pct_male_pop=47.7),\n",
       " Row(city_code='BRO', date='20546.0', count=1.0, city_name='Brownsville', median_age='30.6', pct_male_pop=47.7),\n",
       " Row(city_code='BRO', date='20548.0', count=1.0, city_name='Brownsville', median_age='30.6', pct_male_pop=47.7),\n",
       " Row(city_code='BRO', date='20562.0', count=1.0, city_name='Brownsville', median_age='30.6', pct_male_pop=47.7),\n",
       " Row(city_code='BRO', date='20555.0', count=1.0, city_name='Brownsville', median_age='30.6', pct_male_pop=47.7),\n",
       " Row(city_code='BRO', date='20567.0', count=1.0, city_name='Brownsville', median_age='30.6', pct_male_pop=47.7),\n",
       " Row(city_code='BRO', date='20572.0', count=1.0, city_name='Brownsville', median_age='30.6', pct_male_pop=47.7),\n",
       " Row(city_code='BRO', date='20572.0', count=1.0, city_name='Brownsville', median_age='30.6', pct_male_pop=47.7),\n",
       " Row(city_code='BRO', date='20574.0', count=1.0, city_name='Brownsville', median_age='30.6', pct_male_pop=47.7),\n",
       " Row(city_code='BRO', date='20558.0', count=1.0, city_name='Brownsville', median_age='30.6', pct_male_pop=47.7),\n",
       " Row(city_code='BRO', date='20558.0', count=1.0, city_name='Brownsville', median_age='30.6', pct_male_pop=47.7),\n",
       " Row(city_code='BRO', date='20558.0', count=1.0, city_name='Brownsville', median_age='30.6', pct_male_pop=47.7),\n",
       " Row(city_code='BRO', date='20572.0', count=1.0, city_name='Brownsville', median_age='30.6', pct_male_pop=47.7),\n",
       " Row(city_code='BRO', date='20567.0', count=1.0, city_name='Brownsville', median_age='30.6', pct_male_pop=47.7),\n",
       " Row(city_code='BRO', date='20564.0', count=1.0, city_name='Brownsville', median_age='30.6', pct_male_pop=47.7),\n",
       " Row(city_code='BRO', date='20562.0', count=1.0, city_name='Brownsville', median_age='30.6', pct_male_pop=47.7),\n",
       " Row(city_code='BRO', date='20573.0', count=1.0, city_name='Brownsville', median_age='30.6', pct_male_pop=47.7),\n",
       " Row(city_code='BRO', date='20572.0', count=1.0, city_name='Brownsville', median_age='30.6', pct_male_pop=47.7),\n",
       " Row(city_code='BRO', date='20566.0', count=1.0, city_name='Brownsville', median_age='30.6', pct_male_pop=47.7),\n",
       " Row(city_code='BRO', date='20572.0', count=1.0, city_name='Brownsville', median_age='30.6', pct_male_pop=47.7),\n",
       " Row(city_code='BRO', date='20573.0', count=1.0, city_name='Brownsville', median_age='30.6', pct_male_pop=47.7),\n",
       " Row(city_code='BRO', date='20566.0', count=1.0, city_name='Brownsville', median_age='30.6', pct_male_pop=47.7),\n",
       " Row(city_code='BRO', date='20572.0', count=1.0, city_name='Brownsville', median_age='30.6', pct_male_pop=47.7),\n",
       " Row(city_code='BRO', date='20572.0', count=1.0, city_name='Brownsville', median_age='30.6', pct_male_pop=47.7),\n",
       " Row(city_code='BRO', date='20561.0', count=1.0, city_name='Brownsville', median_age='30.6', pct_male_pop=47.7),\n",
       " Row(city_code='BRO', date='20557.0', count=1.0, city_name='Brownsville', median_age='30.6', pct_male_pop=47.7),\n",
       " Row(city_code='BRO', date='20561.0', count=1.0, city_name='Brownsville', median_age='30.6', pct_male_pop=47.7),\n",
       " Row(city_code='BRO', date='20572.0', count=1.0, city_name='Brownsville', median_age='30.6', pct_male_pop=47.7),\n",
       " Row(city_code='BRO', date='20572.0', count=1.0, city_name='Brownsville', median_age='30.6', pct_male_pop=47.7),\n",
       " Row(city_code='BRO', date='20553.0', count=1.0, city_name='Brownsville', median_age='30.6', pct_male_pop=47.7),\n",
       " Row(city_code='BRO', date='20545.0', count=1.0, city_name='Brownsville', median_age='30.6', pct_male_pop=47.7),\n",
       " Row(city_code='BRO', date='20565.0', count=1.0, city_name='Brownsville', median_age='30.6', pct_male_pop=47.7),\n",
       " Row(city_code='BRO', date='20573.0', count=1.0, city_name='Brownsville', median_age='30.6', pct_male_pop=47.7),\n",
       " Row(city_code='BRO', date='20567.0', count=1.0, city_name='Brownsville', median_age='30.6', pct_male_pop=47.7),\n",
       " Row(city_code='BRO', date='20566.0', count=1.0, city_name='Brownsville', median_age='30.6', pct_male_pop=47.7),\n",
       " Row(city_code='BRO', date='20574.0', count=1.0, city_name='Brownsville', median_age='30.6', pct_male_pop=47.7),\n",
       " Row(city_code='BRO', date='20556.0', count=1.0, city_name='Brownsville', median_age='30.6', pct_male_pop=47.7),\n",
       " Row(city_code='BRO', date='20567.0', count=1.0, city_name='Brownsville', median_age='30.6', pct_male_pop=47.7),\n",
       " Row(city_code='BRO', date='20562.0', count=1.0, city_name='Brownsville', median_age='30.6', pct_male_pop=47.7),\n",
       " Row(city_code='BRO', date='20562.0', count=1.0, city_name='Brownsville', median_age='30.6', pct_male_pop=47.7),\n",
       " Row(city_code='BRO', date='20547.0', count=1.0, city_name='Brownsville', median_age='30.6', pct_male_pop=47.7),\n",
       " Row(city_code='BRO', date='20558.0', count=1.0, city_name='Brownsville', median_age='30.6', pct_male_pop=47.7),\n",
       " Row(city_code='BRO', date='20548.0', count=1.0, city_name='Brownsville', median_age='30.6', pct_male_pop=47.7),\n",
       " Row(city_code='BRO', date='20560.0', count=1.0, city_name='Brownsville', median_age='30.6', pct_male_pop=47.7),\n",
       " Row(city_code='BRO', date='20547.0', count=1.0, city_name='Brownsville', median_age='30.6', pct_male_pop=47.7),\n",
       " Row(city_code='BRO', date='20574.0', count=1.0, city_name='Brownsville', median_age='30.6', pct_male_pop=47.7),\n",
       " Row(city_code='BRO', date='20549.0', count=1.0, city_name='Brownsville', median_age='30.6', pct_male_pop=47.7),\n",
       " Row(city_code='BRO', date='20560.0', count=1.0, city_name='Brownsville', median_age='30.6', pct_male_pop=47.7),\n",
       " Row(city_code='BRO', date='20567.0', count=1.0, city_name='Brownsville', median_age='30.6', pct_male_pop=47.7),\n",
       " Row(city_code='BRO', date='20547.0', count=1.0, city_name='Brownsville', median_age='30.6', pct_male_pop=47.7),\n",
       " Row(city_code='BRO', date='20548.0', count=1.0, city_name='Brownsville', median_age='30.6', pct_male_pop=47.7),\n",
       " Row(city_code='BRO', date='20572.0', count=1.0, city_name='Brownsville', median_age='30.6', pct_male_pop=47.7),\n",
       " Row(city_code='BRO', date='20548.0', count=1.0, city_name='Brownsville', median_age='30.6', pct_male_pop=47.7),\n",
       " Row(city_code='BRO', date='20562.0', count=1.0, city_name='Brownsville', median_age='30.6', pct_male_pop=47.7),\n",
       " Row(city_code='BRO', date='20574.0', count=1.0, city_name='Brownsville', median_age='30.6', pct_male_pop=47.7),\n",
       " Row(city_code='BRO', date='20550.0', count=1.0, city_name='Brownsville', median_age='30.6', pct_male_pop=47.7),\n",
       " Row(city_code='BRO', date='20571.0', count=1.0, city_name='Brownsville', median_age='30.6', pct_male_pop=47.7),\n",
       " Row(city_code='BRO', date='20552.0', count=1.0, city_name='Brownsville', median_age='30.6', pct_male_pop=47.7),\n",
       " Row(city_code='BRO', date='20545.0', count=1.0, city_name='Brownsville', median_age='30.6', pct_male_pop=47.7),\n",
       " Row(city_code='BRO', date='20547.0', count=1.0, city_name='Brownsville', median_age='30.6', pct_male_pop=47.7),\n",
       " Row(city_code='BRO', date='20545.0', count=1.0, city_name='Brownsville', median_age='30.6', pct_male_pop=47.7),\n",
       " Row(city_code='BRO', date='20558.0', count=1.0, city_name='Brownsville', median_age='30.6', pct_male_pop=47.7),\n",
       " Row(city_code='BRO', date='20567.0', count=1.0, city_name='Brownsville', median_age='30.6', pct_male_pop=47.7),\n",
       " Row(city_code='BRO', date='20554.0', count=1.0, city_name='Brownsville', median_age='30.6', pct_male_pop=47.7),\n",
       " Row(city_code='BRO', date='20555.0', count=1.0, city_name='Brownsville', median_age='30.6', pct_male_pop=47.7),\n",
       " Row(city_code='BRO', date='20548.0', count=1.0, city_name='Brownsville', median_age='30.6', pct_male_pop=47.7),\n",
       " Row(city_code='BRO', date='20573.0', count=1.0, city_name='Brownsville', median_age='30.6', pct_male_pop=47.7),\n",
       " Row(city_code='BRO', date='20574.0', count=1.0, city_name='Brownsville', median_age='30.6', pct_male_pop=47.7),\n",
       " Row(city_code='BRO', date='20558.0', count=1.0, city_name='Brownsville', median_age='30.6', pct_male_pop=47.7),\n",
       " Row(city_code='BRO', date='20560.0', count=1.0, city_name='Brownsville', median_age='30.6', pct_male_pop=47.7),\n",
       " Row(city_code='BRO', date='20562.0', count=1.0, city_name='Brownsville', median_age='30.6', pct_male_pop=47.7),\n",
       " Row(city_code='BRO', date='20566.0', count=1.0, city_name='Brownsville', median_age='30.6', pct_male_pop=47.7),\n",
       " Row(city_code='BRO', date='20558.0', count=1.0, city_name='Brownsville', median_age='30.6', pct_male_pop=47.7),\n",
       " Row(city_code='BRO', date='20566.0', count=1.0, city_name='Brownsville', median_age='30.6', pct_male_pop=47.7),\n",
       " Row(city_code='BRO', date='20557.0', count=1.0, city_name='Brownsville', median_age='30.6', pct_male_pop=47.7),\n",
       " Row(city_code='BRO', date='20566.0', count=1.0, city_name='Brownsville', median_age='30.6', pct_male_pop=47.7),\n",
       " Row(city_code='BRO', date='20556.0', count=1.0, city_name='Brownsville', median_age='30.6', pct_male_pop=47.7),\n",
       " Row(city_code='BRO', date='20545.0', count=1.0, city_name='Brownsville', median_age='30.6', pct_male_pop=47.7),\n",
       " Row(city_code='BRO', date='20547.0', count=1.0, city_name='Brownsville', median_age='30.6', pct_male_pop=47.7),\n",
       " Row(city_code='BRO', date='20549.0', count=1.0, city_name='Brownsville', median_age='30.6', pct_male_pop=47.7),\n",
       " Row(city_code='BRO', date='20563.0', count=1.0, city_name='Brownsville', median_age='30.6', pct_male_pop=47.7),\n",
       " Row(city_code='BRO', date='20563.0', count=1.0, city_name='Brownsville', median_age='30.6', pct_male_pop=47.7),\n",
       " Row(city_code='BRO', date='20548.0', count=1.0, city_name='Brownsville', median_age='30.6', pct_male_pop=47.7),\n",
       " Row(city_code='BRO', date='20571.0', count=1.0, city_name='Brownsville', median_age='30.6', pct_male_pop=47.7),\n",
       " Row(city_code='BRO', date='20568.0', count=1.0, city_name='Brownsville', median_age='30.6', pct_male_pop=47.7),\n",
       " Row(city_code='BRO', date='20572.0', count=1.0, city_name='Brownsville', median_age='30.6', pct_male_pop=47.7),\n",
       " Row(city_code='BRO', date='20561.0', count=1.0, city_name='Brownsville', median_age='30.6', pct_male_pop=47.7),\n",
       " Row(city_code='BRO', date='20574.0', count=1.0, city_name='Brownsville', median_age='30.6', pct_male_pop=47.7),\n",
       " Row(city_code='BRO', date='20558.0', count=1.0, city_name='Brownsville', median_age='30.6', pct_male_pop=47.7),\n",
       " Row(city_code='BRO', date='20555.0', count=1.0, city_name='Brownsville', median_age='30.6', pct_male_pop=47.7),\n",
       " Row(city_code='BRO', date='20572.0', count=1.0, city_name='Brownsville', median_age='30.6', pct_male_pop=47.7),\n",
       " Row(city_code='BRO', date='20558.0', count=1.0, city_name='Brownsville', median_age='30.6', pct_male_pop=47.7),\n",
       " Row(city_code='BRO', date='20548.0', count=1.0, city_name='Brownsville', median_age='30.6', pct_male_pop=47.7),\n",
       " Row(city_code='BRO', date='20550.0', count=1.0, city_name='Brownsville', median_age='30.6', pct_male_pop=47.7),\n",
       " Row(city_code='BRO', date='20566.0', count=1.0, city_name='Brownsville', median_age='30.6', pct_male_pop=47.7),\n",
       " Row(city_code='HSV', date='20560.0', count=1.0, city_name='Madison', median_age='30.7', pct_male_pop=49.2),\n",
       " Row(city_code='HSV', date='20560.0', count=1.0, city_name='Madison', median_age='30.7', pct_male_pop=49.2),\n",
       " Row(city_code='HSV', date='20547.0', count=1.0, city_name='Madison', median_age='30.7', pct_male_pop=49.2),\n",
       " Row(city_code='HSV', date='20547.0', count=1.0, city_name='Madison', median_age='30.7', pct_male_pop=49.2),\n",
       " Row(city_code='ATL', date='20564.0', count=1.0, city_name='Atlanta', median_age='33.8', pct_male_pop=48.3),\n",
       " Row(city_code='ATL', date='20556.0', count=1.0, city_name='Atlanta', median_age='33.8', pct_male_pop=48.3),\n",
       " Row(city_code='ATL', date='20562.0', count=1.0, city_name='Atlanta', median_age='33.8', pct_male_pop=48.3),\n",
       " Row(city_code='ATL', date='20562.0', count=1.0, city_name='Atlanta', median_age='33.8', pct_male_pop=48.3),\n",
       " Row(city_code='ATL', date='20573.0', count=1.0, city_name='Atlanta', median_age='33.8', pct_male_pop=48.3),\n",
       " Row(city_code='ATL', date='20559.0', count=1.0, city_name='Atlanta', median_age='33.8', pct_male_pop=48.3),\n",
       " Row(city_code='ATL', date='20557.0', count=1.0, city_name='Atlanta', median_age='33.8', pct_male_pop=48.3),\n",
       " Row(city_code='ATL', date='20564.0', count=1.0, city_name='Atlanta', median_age='33.8', pct_male_pop=48.3),\n",
       " Row(city_code='ATL', date='20561.0', count=1.0, city_name='Atlanta', median_age='33.8', pct_male_pop=48.3),\n",
       " Row(city_code='ATL', date='20574.0', count=1.0, city_name='Atlanta', median_age='33.8', pct_male_pop=48.3),\n",
       " Row(city_code='ATL', date='20561.0', count=1.0, city_name='Atlanta', median_age='33.8', pct_male_pop=48.3),\n",
       " Row(city_code='ATL', date='20567.0', count=1.0, city_name='Atlanta', median_age='33.8', pct_male_pop=48.3),\n",
       " Row(city_code='ATL', date='20555.0', count=1.0, city_name='Atlanta', median_age='33.8', pct_male_pop=48.3),\n",
       " Row(city_code='ATL', date='20561.0', count=1.0, city_name='Atlanta', median_age='33.8', pct_male_pop=48.3),\n",
       " Row(city_code='ATL', date='20557.0', count=1.0, city_name='Atlanta', median_age='33.8', pct_male_pop=48.3),\n",
       " Row(city_code='ATL', date='20565.0', count=1.0, city_name='Atlanta', median_age='33.8', pct_male_pop=48.3),\n",
       " Row(city_code='ATL', date='20557.0', count=1.0, city_name='Atlanta', median_age='33.8', pct_male_pop=48.3),\n",
       " Row(city_code='ATL', date='20572.0', count=1.0, city_name='Atlanta', median_age='33.8', pct_male_pop=48.3),\n",
       " Row(city_code='ATL', date='20547.0', count=1.0, city_name='Atlanta', median_age='33.8', pct_male_pop=48.3),\n",
       " Row(city_code='ATL', date='20566.0', count=1.0, city_name='Atlanta', median_age='33.8', pct_male_pop=48.3),\n",
       " Row(city_code='ATL', date='20565.0', count=1.0, city_name='Atlanta', median_age='33.8', pct_male_pop=48.3),\n",
       " Row(city_code='ATL', date='20574.0', count=1.0, city_name='Atlanta', median_age='33.8', pct_male_pop=48.3),\n",
       " Row(city_code='ATL', date='20565.0', count=1.0, city_name='Atlanta', median_age='33.8', pct_male_pop=48.3),\n",
       " Row(city_code='ATL', date='20569.0', count=1.0, city_name='Atlanta', median_age='33.8', pct_male_pop=48.3),\n",
       " Row(city_code='ATL', date='20566.0', count=1.0, city_name='Atlanta', median_age='33.8', pct_male_pop=48.3),\n",
       " Row(city_code='ATL', date='20553.0', count=1.0, city_name='Atlanta', median_age='33.8', pct_male_pop=48.3),\n",
       " Row(city_code='ATL', date='20558.0', count=1.0, city_name='Atlanta', median_age='33.8', pct_male_pop=48.3),\n",
       " Row(city_code='ATL', date='20574.0', count=1.0, city_name='Atlanta', median_age='33.8', pct_male_pop=48.3),\n",
       " Row(city_code='ATL', date='20562.0', count=1.0, city_name='Atlanta', median_age='33.8', pct_male_pop=48.3),\n",
       " Row(city_code='ATL', date='20565.0', count=1.0, city_name='Atlanta', median_age='33.8', pct_male_pop=48.3),\n",
       " Row(city_code='ATL', date='20570.0', count=1.0, city_name='Atlanta', median_age='33.8', pct_male_pop=48.3),\n",
       " Row(city_code='ATL', date='20571.0', count=1.0, city_name='Atlanta', median_age='33.8', pct_male_pop=48.3),\n",
       " Row(city_code='ATL', date='20564.0', count=1.0, city_name='Atlanta', median_age='33.8', pct_male_pop=48.3),\n",
       " Row(city_code='ATL', date='20548.0', count=1.0, city_name='Atlanta', median_age='33.8', pct_male_pop=48.3),\n",
       " Row(city_code='ATL', date='20572.0', count=1.0, city_name='Atlanta', median_age='33.8', pct_male_pop=48.3),\n",
       " Row(city_code='ATL', date='20548.0', count=1.0, city_name='Atlanta', median_age='33.8', pct_male_pop=48.3),\n",
       " Row(city_code='ATL', date='20556.0', count=1.0, city_name='Atlanta', median_age='33.8', pct_male_pop=48.3),\n",
       " Row(city_code='ATL', date='20574.0', count=1.0, city_name='Atlanta', median_age='33.8', pct_male_pop=48.3),\n",
       " Row(city_code='ATL', date='20572.0', count=1.0, city_name='Atlanta', median_age='33.8', pct_male_pop=48.3),\n",
       " Row(city_code='ATL', date='20572.0', count=1.0, city_name='Atlanta', median_age='33.8', pct_male_pop=48.3),\n",
       " Row(city_code='ATL', date='20574.0', count=1.0, city_name='Atlanta', median_age='33.8', pct_male_pop=48.3),\n",
       " Row(city_code='ATL', date='20569.0', count=1.0, city_name='Atlanta', median_age='33.8', pct_male_pop=48.3),\n",
       " Row(city_code='ATL', date='20566.0', count=1.0, city_name='Atlanta', median_age='33.8', pct_male_pop=48.3),\n",
       " Row(city_code='ATL', date='20569.0', count=1.0, city_name='Atlanta', median_age='33.8', pct_male_pop=48.3),\n",
       " Row(city_code='ATL', date='20566.0', count=1.0, city_name='Atlanta', median_age='33.8', pct_male_pop=48.3),\n",
       " Row(city_code='ATL', date='20567.0', count=1.0, city_name='Atlanta', median_age='33.8', pct_male_pop=48.3),\n",
       " Row(city_code='ATL', date='20571.0', count=1.0, city_name='Atlanta', median_age='33.8', pct_male_pop=48.3),\n",
       " Row(city_code='ATL', date='20560.0', count=1.0, city_name='Atlanta', median_age='33.8', pct_male_pop=48.3),\n",
       " Row(city_code='ATL', date='20547.0', count=1.0, city_name='Atlanta', median_age='33.8', pct_male_pop=48.3),\n",
       " Row(city_code='ATL', date='20551.0', count=1.0, city_name='Atlanta', median_age='33.8', pct_male_pop=48.3),\n",
       " Row(city_code='ATL', date='20561.0', count=1.0, city_name='Atlanta', median_age='33.8', pct_male_pop=48.3),\n",
       " Row(city_code='ATL', date='20554.0', count=1.0, city_name='Atlanta', median_age='33.8', pct_male_pop=48.3),\n",
       " Row(city_code='ATL', date='20571.0', count=1.0, city_name='Atlanta', median_age='33.8', pct_male_pop=48.3),\n",
       " Row(city_code='ATL', date='20552.0', count=1.0, city_name='Atlanta', median_age='33.8', pct_male_pop=48.3),\n",
       " Row(city_code='ATL', date='20560.0', count=1.0, city_name='Atlanta', median_age='33.8', pct_male_pop=48.3),\n",
       " Row(city_code='ATL', date='20562.0', count=1.0, city_name='Atlanta', median_age='33.8', pct_male_pop=48.3),\n",
       " Row(city_code='ATL', date='20560.0', count=1.0, city_name='Atlanta', median_age='33.8', pct_male_pop=48.3),\n",
       " Row(city_code='ATL', date='20548.0', count=1.0, city_name='Atlanta', median_age='33.8', pct_male_pop=48.3),\n",
       " Row(city_code='ATL', date='20563.0', count=1.0, city_name='Atlanta', median_age='33.8', pct_male_pop=48.3),\n",
       " Row(city_code='ATL', date='20566.0', count=1.0, city_name='Atlanta', median_age='33.8', pct_male_pop=48.3),\n",
       " Row(city_code='ATL', date='20568.0', count=1.0, city_name='Atlanta', median_age='33.8', pct_male_pop=48.3),\n",
       " Row(city_code='ATL', date='20562.0', count=1.0, city_name='Atlanta', median_age='33.8', pct_male_pop=48.3),\n",
       " Row(city_code='ATL', date='20569.0', count=1.0, city_name='Atlanta', median_age='33.8', pct_male_pop=48.3),\n",
       " Row(city_code='ATL', date='20566.0', count=1.0, city_name='Atlanta', median_age='33.8', pct_male_pop=48.3),\n",
       " Row(city_code='ATL', date='20551.0', count=1.0, city_name='Atlanta', median_age='33.8', pct_male_pop=48.3),\n",
       " Row(city_code='ATL', date='20564.0', count=1.0, city_name='Atlanta', median_age='33.8', pct_male_pop=48.3),\n",
       " Row(city_code='ATL', date='20552.0', count=1.0, city_name='Atlanta', median_age='33.8', pct_male_pop=48.3),\n",
       " Row(city_code='ATL', date='20560.0', count=1.0, city_name='Atlanta', median_age='33.8', pct_male_pop=48.3),\n",
       " Row(city_code='ATL', date='20553.0', count=1.0, city_name='Atlanta', median_age='33.8', pct_male_pop=48.3),\n",
       " Row(city_code='ATL', date='20567.0', count=1.0, city_name='Atlanta', median_age='33.8', pct_male_pop=48.3),\n",
       " Row(city_code='ATL', date='20566.0', count=1.0, city_name='Atlanta', median_age='33.8', pct_male_pop=48.3),\n",
       " Row(city_code='ATL', date='20554.0', count=1.0, city_name='Atlanta', median_age='33.8', pct_male_pop=48.3),\n",
       " Row(city_code='ATL', date='20564.0', count=1.0, city_name='Atlanta', median_age='33.8', pct_male_pop=48.3),\n",
       " Row(city_code='ATL', date='20559.0', count=1.0, city_name='Atlanta', median_age='33.8', pct_male_pop=48.3),\n",
       " Row(city_code='ATL', date='20563.0', count=1.0, city_name='Atlanta', median_age='33.8', pct_male_pop=48.3),\n",
       " Row(city_code='ATL', date='20553.0', count=1.0, city_name='Atlanta', median_age='33.8', pct_male_pop=48.3),\n",
       " Row(city_code='ATL', date='20574.0', count=1.0, city_name='Atlanta', median_age='33.8', pct_male_pop=48.3),\n",
       " Row(city_code='ATL', date='20572.0', count=1.0, city_name='Atlanta', median_age='33.8', pct_male_pop=48.3),\n",
       " Row(city_code='ATL', date='20545.0', count=1.0, city_name='Atlanta', median_age='33.8', pct_male_pop=48.3),\n",
       " Row(city_code='ATL', date='20571.0', count=1.0, city_name='Atlanta', median_age='33.8', pct_male_pop=48.3),\n",
       " Row(city_code='ATL', date='20558.0', count=1.0, city_name='Atlanta', median_age='33.8', pct_male_pop=48.3),\n",
       " Row(city_code='ATL', date='20565.0', count=1.0, city_name='Atlanta', median_age='33.8', pct_male_pop=48.3),\n",
       " Row(city_code='ATL', date='20573.0', count=1.0, city_name='Atlanta', median_age='33.8', pct_male_pop=48.3),\n",
       " Row(city_code='ATL', date='20563.0', count=1.0, city_name='Atlanta', median_age='33.8', pct_male_pop=48.3),\n",
       " Row(city_code='ATL', date='20562.0', count=1.0, city_name='Atlanta', median_age='33.8', pct_male_pop=48.3),\n",
       " Row(city_code='ATL', date='20566.0', count=1.0, city_name='Atlanta', median_age='33.8', pct_male_pop=48.3),\n",
       " Row(city_code='ATL', date='20569.0', count=1.0, city_name='Atlanta', median_age='33.8', pct_male_pop=48.3),\n",
       " Row(city_code='ATL', date='20560.0', count=1.0, city_name='Atlanta', median_age='33.8', pct_male_pop=48.3),\n",
       " Row(city_code='ATL', date='20547.0', count=1.0, city_name='Atlanta', median_age='33.8', pct_male_pop=48.3),\n",
       " Row(city_code='ATL', date='20556.0', count=1.0, city_name='Atlanta', median_age='33.8', pct_male_pop=48.3),\n",
       " Row(city_code='ATL', date='20572.0', count=1.0, city_name='Atlanta', median_age='33.8', pct_male_pop=48.3),\n",
       " Row(city_code='ATL', date='20549.0', count=1.0, city_name='Atlanta', median_age='33.8', pct_male_pop=48.3),\n",
       " Row(city_code='ATL', date='20548.0', count=1.0, city_name='Atlanta', median_age='33.8', pct_male_pop=48.3),\n",
       " Row(city_code='ATL', date='20573.0', count=1.0, city_name='Atlanta', median_age='33.8', pct_male_pop=48.3),\n",
       " Row(city_code='ATL', date='20551.0', count=1.0, city_name='Atlanta', median_age='33.8', pct_male_pop=48.3),\n",
       " Row(city_code='ATL', date='20547.0', count=1.0, city_name='Atlanta', median_age='33.8', pct_male_pop=48.3),\n",
       " Row(city_code='ATL', date='20572.0', count=1.0, city_name='Atlanta', median_age='33.8', pct_male_pop=48.3),\n",
       " Row(city_code='ATL', date='20570.0', count=1.0, city_name='Atlanta', median_age='33.8', pct_male_pop=48.3),\n",
       " Row(city_code='ATL', date='20561.0', count=1.0, city_name='Atlanta', median_age='33.8', pct_male_pop=48.3),\n",
       " Row(city_code='ATL', date='20563.0', count=1.0, city_name='Atlanta', median_age='33.8', pct_male_pop=48.3),\n",
       " Row(city_code='ATL', date='20571.0', count=1.0, city_name='Atlanta', median_age='33.8', pct_male_pop=48.3),\n",
       " Row(city_code='ATL', date='20569.0', count=1.0, city_name='Atlanta', median_age='33.8', pct_male_pop=48.3),\n",
       " Row(city_code='ATL', date='20555.0', count=1.0, city_name='Atlanta', median_age='33.8', pct_male_pop=48.3),\n",
       " Row(city_code='ATL', date='20567.0', count=1.0, city_name='Atlanta', median_age='33.8', pct_male_pop=48.3),\n",
       " Row(city_code='ATL', date='20572.0', count=1.0, city_name='Atlanta', median_age='33.8', pct_male_pop=48.3),\n",
       " Row(city_code='ATL', date='20574.0', count=1.0, city_name='Atlanta', median_age='33.8', pct_male_pop=48.3),\n",
       " Row(city_code='ATL', date='20558.0', count=1.0, city_name='Atlanta', median_age='33.8', pct_male_pop=48.3),\n",
       " Row(city_code='ATL', date='20559.0', count=1.0, city_name='Atlanta', median_age='33.8', pct_male_pop=48.3),\n",
       " Row(city_code='ATL', date='20559.0', count=1.0, city_name='Atlanta', median_age='33.8', pct_male_pop=48.3),\n",
       " Row(city_code='ATL', date='20562.0', count=1.0, city_name='Atlanta', median_age='33.8', pct_male_pop=48.3),\n",
       " Row(city_code='ATL', date='20549.0', count=1.0, city_name='Atlanta', median_age='33.8', pct_male_pop=48.3),\n",
       " Row(city_code='ATL', date='20546.0', count=1.0, city_name='Atlanta', median_age='33.8', pct_male_pop=48.3),\n",
       " Row(city_code='ATL', date='20552.0', count=1.0, city_name='Atlanta', median_age='33.8', pct_male_pop=48.3),\n",
       " Row(city_code='ATL', date='20555.0', count=1.0, city_name='Atlanta', median_age='33.8', pct_male_pop=48.3),\n",
       " Row(city_code='ATL', date='20562.0', count=1.0, city_name='Atlanta', median_age='33.8', pct_male_pop=48.3),\n",
       " Row(city_code='ATL', date='20562.0', count=1.0, city_name='Atlanta', median_age='33.8', pct_male_pop=48.3),\n",
       " Row(city_code='ATL', date='20550.0', count=1.0, city_name='Atlanta', median_age='33.8', pct_male_pop=48.3),\n",
       " Row(city_code='ATL', date='20556.0', count=1.0, city_name='Atlanta', median_age='33.8', pct_male_pop=48.3),\n",
       " Row(city_code='ATL', date='20572.0', count=1.0, city_name='Atlanta', median_age='33.8', pct_male_pop=48.3),\n",
       " Row(city_code='ATL', date='20545.0', count=1.0, city_name='Atlanta', median_age='33.8', pct_male_pop=48.3),\n",
       " Row(city_code='ATL', date='20552.0', count=1.0, city_name='Atlanta', median_age='33.8', pct_male_pop=48.3),\n",
       " Row(city_code='ATL', date='20557.0', count=1.0, city_name='Atlanta', median_age='33.8', pct_male_pop=48.3),\n",
       " Row(city_code='ATL', date='20572.0', count=1.0, city_name='Atlanta', median_age='33.8', pct_male_pop=48.3),\n",
       " Row(city_code='ATL', date='20566.0', count=1.0, city_name='Atlanta', median_age='33.8', pct_male_pop=48.3),\n",
       " Row(city_code='ATL', date='20568.0', count=1.0, city_name='Atlanta', median_age='33.8', pct_male_pop=48.3),\n",
       " Row(city_code='ATL', date='20558.0', count=1.0, city_name='Atlanta', median_age='33.8', pct_male_pop=48.3),\n",
       " Row(city_code='ATL', date='20566.0', count=1.0, city_name='Atlanta', median_age='33.8', pct_male_pop=48.3),\n",
       " Row(city_code='ATL', date='20559.0', count=1.0, city_name='Atlanta', median_age='33.8', pct_male_pop=48.3),\n",
       " Row(city_code='ATL', date='20553.0', count=1.0, city_name='Atlanta', median_age='33.8', pct_male_pop=48.3),\n",
       " Row(city_code='ATL', date='20558.0', count=1.0, city_name='Atlanta', median_age='33.8', pct_male_pop=48.3),\n",
       " Row(city_code='ATL', date='20568.0', count=1.0, city_name='Atlanta', median_age='33.8', pct_male_pop=48.3),\n",
       " Row(city_code='ATL', date='20574.0', count=1.0, city_name='Atlanta', median_age='33.8', pct_male_pop=48.3),\n",
       " Row(city_code='ATL', date='20574.0', count=1.0, city_name='Atlanta', median_age='33.8', pct_male_pop=48.3),\n",
       " Row(city_code='ATL', date='20554.0', count=1.0, city_name='Atlanta', median_age='33.8', pct_male_pop=48.3),\n",
       " Row(city_code='ATL', date='20553.0', count=1.0, city_name='Atlanta', median_age='33.8', pct_male_pop=48.3),\n",
       " Row(city_code='ATL', date='20551.0', count=1.0, city_name='Atlanta', median_age='33.8', pct_male_pop=48.3),\n",
       " Row(city_code='ATL', date='20549.0', count=1.0, city_name='Atlanta', median_age='33.8', pct_male_pop=48.3),\n",
       " Row(city_code='ATL', date='20568.0', count=1.0, city_name='Atlanta', median_age='33.8', pct_male_pop=48.3),\n",
       " Row(city_code='ATL', date='20573.0', count=1.0, city_name='Atlanta', median_age='33.8', pct_male_pop=48.3),\n",
       " Row(city_code='ATL', date='20557.0', count=1.0, city_name='Atlanta', median_age='33.8', pct_male_pop=48.3),\n",
       " Row(city_code='ATL', date='20546.0', count=1.0, city_name='Atlanta', median_age='33.8', pct_male_pop=48.3),\n",
       " Row(city_code='ATL', date='20567.0', count=1.0, city_name='Atlanta', median_age='33.8', pct_male_pop=48.3),\n",
       " Row(city_code='ATL', date='20561.0', count=1.0, city_name='Atlanta', median_age='33.8', pct_male_pop=48.3),\n",
       " Row(city_code='ATL', date='20549.0', count=1.0, city_name='Atlanta', median_age='33.8', pct_male_pop=48.3),\n",
       " Row(city_code='ATL', date='20558.0', count=1.0, city_name='Atlanta', median_age='33.8', pct_male_pop=48.3),\n",
       " Row(city_code='ATL', date='20548.0', count=1.0, city_name='Atlanta', median_age='33.8', pct_male_pop=48.3),\n",
       " Row(city_code='ATL', date='20556.0', count=1.0, city_name='Atlanta', median_age='33.8', pct_male_pop=48.3),\n",
       " Row(city_code='ATL', date='20555.0', count=1.0, city_name='Atlanta', median_age='33.8', pct_male_pop=48.3),\n",
       " Row(city_code='ATL', date='20568.0', count=1.0, city_name='Atlanta', median_age='33.8', pct_male_pop=48.3),\n",
       " Row(city_code='ATL', date='20555.0', count=1.0, city_name='Atlanta', median_age='33.8', pct_male_pop=48.3),\n",
       " Row(city_code='ATL', date='20549.0', count=1.0, city_name='Atlanta', median_age='33.8', pct_male_pop=48.3),\n",
       " Row(city_code='ATL', date='20571.0', count=1.0, city_name='Atlanta', median_age='33.8', pct_male_pop=48.3),\n",
       " Row(city_code='ATL', date='20571.0', count=1.0, city_name='Atlanta', median_age='33.8', pct_male_pop=48.3),\n",
       " Row(city_code='ATL', date='20548.0', count=1.0, city_name='Atlanta', median_age='33.8', pct_male_pop=48.3),\n",
       " Row(city_code='ATL', date='20548.0', count=1.0, city_name='Atlanta', median_age='33.8', pct_male_pop=48.3),\n",
       " Row(city_code='ATL', date='20552.0', count=1.0, city_name='Atlanta', median_age='33.8', pct_male_pop=48.3),\n",
       " Row(city_code='ATL', date='20570.0', count=1.0, city_name='Atlanta', median_age='33.8', pct_male_pop=48.3),\n",
       " Row(city_code='ATL', date='20554.0', count=1.0, city_name='Atlanta', median_age='33.8', pct_male_pop=48.3),\n",
       " Row(city_code='ATL', date='20570.0', count=1.0, city_name='Atlanta', median_age='33.8', pct_male_pop=48.3),\n",
       " Row(city_code='ATL', date='20555.0', count=1.0, city_name='Atlanta', median_age='33.8', pct_male_pop=48.3),\n",
       " Row(city_code='ATL', date='20572.0', count=1.0, city_name='Atlanta', median_age='33.8', pct_male_pop=48.3),\n",
       " Row(city_code='ATL', date='20558.0', count=1.0, city_name='Atlanta', median_age='33.8', pct_male_pop=48.3),\n",
       " Row(city_code='ATL', date='20556.0', count=1.0, city_name='Atlanta', median_age='33.8', pct_male_pop=48.3),\n",
       " Row(city_code='ATL', date='20556.0', count=1.0, city_name='Atlanta', median_age='33.8', pct_male_pop=48.3),\n",
       " Row(city_code='ATL', date='20565.0', count=1.0, city_name='Atlanta', median_age='33.8', pct_male_pop=48.3),\n",
       " Row(city_code='ATL', date='20572.0', count=1.0, city_name='Atlanta', median_age='33.8', pct_male_pop=48.3),\n",
       " Row(city_code='ATL', date='20553.0', count=1.0, city_name='Atlanta', median_age='33.8', pct_male_pop=48.3),\n",
       " Row(city_code='ATL', date='20550.0', count=1.0, city_name='Atlanta', median_age='33.8', pct_male_pop=48.3),\n",
       " Row(city_code='ATL', date='20558.0', count=1.0, city_name='Atlanta', median_age='33.8', pct_male_pop=48.3),\n",
       " Row(city_code='ATL', date='20560.0', count=1.0, city_name='Atlanta', median_age='33.8', pct_male_pop=48.3),\n",
       " Row(city_code='ATL', date='20547.0', count=1.0, city_name='Atlanta', median_age='33.8', pct_male_pop=48.3),\n",
       " Row(city_code='ATL', date='20570.0', count=1.0, city_name='Atlanta', median_age='33.8', pct_male_pop=48.3),\n",
       " Row(city_code='ATL', date='20553.0', count=1.0, city_name='Atlanta', median_age='33.8', pct_male_pop=48.3),\n",
       " Row(city_code='ATL', date='20564.0', count=1.0, city_name='Atlanta', median_age='33.8', pct_male_pop=48.3),\n",
       " Row(city_code='ATL', date='20573.0', count=1.0, city_name='Atlanta', median_age='33.8', pct_male_pop=48.3),\n",
       " Row(city_code='ATL', date='20545.0', count=1.0, city_name='Atlanta', median_age='33.8', pct_male_pop=48.3),\n",
       " Row(city_code='ATL', date='20555.0', count=1.0, city_name='Atlanta', median_age='33.8', pct_male_pop=48.3),\n",
       " Row(city_code='ATL', date='20547.0', count=1.0, city_name='Atlanta', median_age='33.8', pct_male_pop=48.3),\n",
       " Row(city_code='ATL', date='20569.0', count=1.0, city_name='Atlanta', median_age='33.8', pct_male_pop=48.3),\n",
       " Row(city_code='ATL', date='20563.0', count=1.0, city_name='Atlanta', median_age='33.8', pct_male_pop=48.3),\n",
       " Row(city_code='ATL', date='20546.0', count=1.0, city_name='Atlanta', median_age='33.8', pct_male_pop=48.3),\n",
       " Row(city_code='ATL', date='20568.0', count=1.0, city_name='Atlanta', median_age='33.8', pct_male_pop=48.3),\n",
       " Row(city_code='ATL', date='20553.0', count=1.0, city_name='Atlanta', median_age='33.8', pct_male_pop=48.3),\n",
       " Row(city_code='ATL', date='20574.0', count=1.0, city_name='Atlanta', median_age='33.8', pct_male_pop=48.3),\n",
       " Row(city_code='ATL', date='20558.0', count=1.0, city_name='Atlanta', median_age='33.8', pct_male_pop=48.3),\n",
       " Row(city_code='ATL', date='20557.0', count=1.0, city_name='Atlanta', median_age='33.8', pct_male_pop=48.3),\n",
       " Row(city_code='ATL', date='20557.0', count=1.0, city_name='Atlanta', median_age='33.8', pct_male_pop=48.3),\n",
       " Row(city_code='ATL', date='20555.0', count=1.0, city_name='Atlanta', median_age='33.8', pct_male_pop=48.3),\n",
       " Row(city_code='ATL', date='20545.0', count=1.0, city_name='Atlanta', median_age='33.8', pct_male_pop=48.3),\n",
       " Row(city_code='ATL', date='20549.0', count=1.0, city_name='Atlanta', median_age='33.8', pct_male_pop=48.3),\n",
       " Row(city_code='ATL', date='20561.0', count=1.0, city_name='Atlanta', median_age='33.8', pct_male_pop=48.3),\n",
       " Row(city_code='ATL', date='20569.0', count=1.0, city_name='Atlanta', median_age='33.8', pct_male_pop=48.3),\n",
       " Row(city_code='ATL', date='20568.0', count=1.0, city_name='Atlanta', median_age='33.8', pct_male_pop=48.3),\n",
       " Row(city_code='ATL', date='20570.0', count=1.0, city_name='Atlanta', median_age='33.8', pct_male_pop=48.3),\n",
       " Row(city_code='ATL', date='20568.0', count=1.0, city_name='Atlanta', median_age='33.8', pct_male_pop=48.3),\n",
       " Row(city_code='ATL', date='20566.0', count=1.0, city_name='Atlanta', median_age='33.8', pct_male_pop=48.3),\n",
       " Row(city_code='ATL', date='20574.0', count=1.0, city_name='Atlanta', median_age='33.8', pct_male_pop=48.3),\n",
       " Row(city_code='ATL', date='20559.0', count=1.0, city_name='Atlanta', median_age='33.8', pct_male_pop=48.3),\n",
       " Row(city_code='ATL', date='20557.0', count=1.0, city_name='Atlanta', median_age='33.8', pct_male_pop=48.3),\n",
       " Row(city_code='ATL', date='20558.0', count=1.0, city_name='Atlanta', median_age='33.8', pct_male_pop=48.3),\n",
       " Row(city_code='ATL', date='20548.0', count=1.0, city_name='Atlanta', median_age='33.8', pct_male_pop=48.3),\n",
       " Row(city_code='ATL', date='20566.0', count=1.0, city_name='Atlanta', median_age='33.8', pct_male_pop=48.3),\n",
       " Row(city_code='ATL', date='20557.0', count=1.0, city_name='Atlanta', median_age='33.8', pct_male_pop=48.3),\n",
       " Row(city_code='ATL', date='20552.0', count=1.0, city_name='Atlanta', median_age='33.8', pct_male_pop=48.3),\n",
       " Row(city_code='ATL', date='20569.0', count=1.0, city_name='Atlanta', median_age='33.8', pct_male_pop=48.3),\n",
       " Row(city_code='ATL', date='20557.0', count=1.0, city_name='Atlanta', median_age='33.8', pct_male_pop=48.3),\n",
       " Row(city_code='ATL', date='20565.0', count=1.0, city_name='Atlanta', median_age='33.8', pct_male_pop=48.3),\n",
       " Row(city_code='ATL', date='20570.0', count=1.0, city_name='Atlanta', median_age='33.8', pct_male_pop=48.3),\n",
       " Row(city_code='ATL', date='20556.0', count=1.0, city_name='Atlanta', median_age='33.8', pct_male_pop=48.3),\n",
       " Row(city_code='ATL', date='20545.0', count=1.0, city_name='Atlanta', median_age='33.8', pct_male_pop=48.3),\n",
       " Row(city_code='ATL', date='20559.0', count=1.0, city_name='Atlanta', median_age='33.8', pct_male_pop=48.3),\n",
       " Row(city_code='ATL', date='20546.0', count=1.0, city_name='Atlanta', median_age='33.8', pct_male_pop=48.3),\n",
       " Row(city_code='ATL', date='20569.0', count=1.0, city_name='Atlanta', median_age='33.8', pct_male_pop=48.3),\n",
       " Row(city_code='ATL', date='20566.0', count=1.0, city_name='Atlanta', median_age='33.8', pct_male_pop=48.3),\n",
       " Row(city_code='ATL', date='20548.0', count=1.0, city_name='Atlanta', median_age='33.8', pct_male_pop=48.3),\n",
       " Row(city_code='ATL', date='20574.0', count=1.0, city_name='Atlanta', median_age='33.8', pct_male_pop=48.3),\n",
       " Row(city_code='ATL', date='20547.0', count=1.0, city_name='Atlanta', median_age='33.8', pct_male_pop=48.3),\n",
       " Row(city_code='ATL', date='20564.0', count=1.0, city_name='Atlanta', median_age='33.8', pct_male_pop=48.3),\n",
       " Row(city_code='ATL', date='20562.0', count=1.0, city_name='Atlanta', median_age='33.8', pct_male_pop=48.3),\n",
       " Row(city_code='ATL', date='20562.0', count=1.0, city_name='Atlanta', median_age='33.8', pct_male_pop=48.3),\n",
       " Row(city_code='ATL', date='20568.0', count=1.0, city_name='Atlanta', median_age='33.8', pct_male_pop=48.3),\n",
       " Row(city_code='ATL', date='20549.0', count=1.0, city_name='Atlanta', median_age='33.8', pct_male_pop=48.3),\n",
       " Row(city_code='ATL', date='20563.0', count=1.0, city_name='Atlanta', median_age='33.8', pct_male_pop=48.3),\n",
       " Row(city_code='ATL', date='20560.0', count=1.0, city_name='Atlanta', median_age='33.8', pct_male_pop=48.3),\n",
       " Row(city_code='ATL', date='20569.0', count=1.0, city_name='Atlanta', median_age='33.8', pct_male_pop=48.3),\n",
       " Row(city_code='ATL', date='20548.0', count=1.0, city_name='Atlanta', median_age='33.8', pct_male_pop=48.3),\n",
       " Row(city_code='ATL', date='20566.0', count=1.0, city_name='Atlanta', median_age='33.8', pct_male_pop=48.3),\n",
       " Row(city_code='ATL', date='20560.0', count=1.0, city_name='Atlanta', median_age='33.8', pct_male_pop=48.3),\n",
       " Row(city_code='ATL', date='20560.0', count=1.0, city_name='Atlanta', median_age='33.8', pct_male_pop=48.3),\n",
       " Row(city_code='ATL', date='20557.0', count=1.0, city_name='Atlanta', median_age='33.8', pct_male_pop=48.3),\n",
       " Row(city_code='ATL', date='20574.0', count=1.0, city_name='Atlanta', median_age='33.8', pct_male_pop=48.3),\n",
       " Row(city_code='ATL', date='20564.0', count=1.0, city_name='Atlanta', median_age='33.8', pct_male_pop=48.3),\n",
       " Row(city_code='ATL', date='20564.0', count=1.0, city_name='Atlanta', median_age='33.8', pct_male_pop=48.3),\n",
       " Row(city_code='ATL', date='20572.0', count=1.0, city_name='Atlanta', median_age='33.8', pct_male_pop=48.3),\n",
       " Row(city_code='ATL', date='20547.0', count=1.0, city_name='Atlanta', median_age='33.8', pct_male_pop=48.3),\n",
       " Row(city_code='ATL', date='20558.0', count=1.0, city_name='Atlanta', median_age='33.8', pct_male_pop=48.3),\n",
       " Row(city_code='ATL', date='20552.0', count=1.0, city_name='Atlanta', median_age='33.8', pct_male_pop=48.3),\n",
       " Row(city_code='ATL', date='20574.0', count=1.0, city_name='Atlanta', median_age='33.8', pct_male_pop=48.3),\n",
       " Row(city_code='ATL', date='20562.0', count=1.0, city_name='Atlanta', median_age='33.8', pct_male_pop=48.3),\n",
       " Row(city_code='ATL', date='20555.0', count=1.0, city_name='Atlanta', median_age='33.8', pct_male_pop=48.3),\n",
       " Row(city_code='ATL', date='20568.0', count=1.0, city_name='Atlanta', median_age='33.8', pct_male_pop=48.3),\n",
       " Row(city_code='ATL', date='20566.0', count=1.0, city_name='Atlanta', median_age='33.8', pct_male_pop=48.3),\n",
       " Row(city_code='ATL', date='20561.0', count=1.0, city_name='Atlanta', median_age='33.8', pct_male_pop=48.3),\n",
       " Row(city_code='ATL', date='20562.0', count=1.0, city_name='Atlanta', median_age='33.8', pct_male_pop=48.3),\n",
       " Row(city_code='ATL', date='20565.0', count=1.0, city_name='Atlanta', median_age='33.8', pct_male_pop=48.3),\n",
       " Row(city_code='ATL', date='20547.0', count=1.0, city_name='Atlanta', median_age='33.8', pct_male_pop=48.3),\n",
       " Row(city_code='ATL', date='20546.0', count=1.0, city_name='Atlanta', median_age='33.8', pct_male_pop=48.3),\n",
       " Row(city_code='ATL', date='20554.0', count=1.0, city_name='Atlanta', median_age='33.8', pct_male_pop=48.3),\n",
       " Row(city_code='ATL', date='20558.0', count=1.0, city_name='Atlanta', median_age='33.8', pct_male_pop=48.3),\n",
       " Row(city_code='ATL', date='20550.0', count=1.0, city_name='Atlanta', median_age='33.8', pct_male_pop=48.3),\n",
       " Row(city_code='ATL', date='20555.0', count=1.0, city_name='Atlanta', median_age='33.8', pct_male_pop=48.3),\n",
       " Row(city_code='ATL', date='20574.0', count=1.0, city_name='Atlanta', median_age='33.8', pct_male_pop=48.3),\n",
       " Row(city_code='ATL', date='20560.0', count=1.0, city_name='Atlanta', median_age='33.8', pct_male_pop=48.3),\n",
       " Row(city_code='ATL', date='20550.0', count=1.0, city_name='Atlanta', median_age='33.8', pct_male_pop=48.3),\n",
       " Row(city_code='ATL', date='20558.0', count=1.0, city_name='Atlanta', median_age='33.8', pct_male_pop=48.3),\n",
       " Row(city_code='ATL', date='20572.0', count=1.0, city_name='Atlanta', median_age='33.8', pct_male_pop=48.3),\n",
       " Row(city_code='ATL', date='20557.0', count=1.0, city_name='Atlanta', median_age='33.8', pct_male_pop=48.3),\n",
       " Row(city_code='ATL', date='20552.0', count=1.0, city_name='Atlanta', median_age='33.8', pct_male_pop=48.3),\n",
       " Row(city_code='ATL', date='20547.0', count=1.0, city_name='Atlanta', median_age='33.8', pct_male_pop=48.3),\n",
       " Row(city_code='ATL', date='20559.0', count=1.0, city_name='Atlanta', median_age='33.8', pct_male_pop=48.3),\n",
       " Row(city_code='ATL', date='20548.0', count=1.0, city_name='Atlanta', median_age='33.8', pct_male_pop=48.3),\n",
       " Row(city_code='ATL', date='20547.0', count=1.0, city_name='Atlanta', median_age='33.8', pct_male_pop=48.3),\n",
       " Row(city_code='ATL', date='20549.0', count=1.0, city_name='Atlanta', median_age='33.8', pct_male_pop=48.3),\n",
       " Row(city_code='ATL', date='20573.0', count=1.0, city_name='Atlanta', median_age='33.8', pct_male_pop=48.3),\n",
       " Row(city_code='ATL', date='20546.0', count=1.0, city_name='Atlanta', median_age='33.8', pct_male_pop=48.3),\n",
       " Row(city_code='ATL', date='20561.0', count=1.0, city_name='Atlanta', median_age='33.8', pct_male_pop=48.3),\n",
       " Row(city_code='ATL', date='20574.0', count=1.0, city_name='Atlanta', median_age='33.8', pct_male_pop=48.3),\n",
       " Row(city_code='ATL', date='20554.0', count=1.0, city_name='Atlanta', median_age='33.8', pct_male_pop=48.3),\n",
       " Row(city_code='ATL', date='20565.0', count=1.0, city_name='Atlanta', median_age='33.8', pct_male_pop=48.3),\n",
       " Row(city_code='ATL', date='20550.0', count=1.0, city_name='Atlanta', median_age='33.8', pct_male_pop=48.3),\n",
       " Row(city_code='ATL', date='20567.0', count=1.0, city_name='Atlanta', median_age='33.8', pct_male_pop=48.3),\n",
       " Row(city_code='ATL', date='20570.0', count=1.0, city_name='Atlanta', median_age='33.8', pct_male_pop=48.3),\n",
       " Row(city_code='ATL', date='20559.0', count=1.0, city_name='Atlanta', median_age='33.8', pct_male_pop=48.3),\n",
       " Row(city_code='ATL', date='20567.0', count=1.0, city_name='Atlanta', median_age='33.8', pct_male_pop=48.3),\n",
       " Row(city_code='ATL', date='20560.0', count=1.0, city_name='Atlanta', median_age='33.8', pct_male_pop=48.3),\n",
       " Row(city_code='ATL', date='20546.0', count=1.0, city_name='Atlanta', median_age='33.8', pct_male_pop=48.3),\n",
       " Row(city_code='ATL', date='20564.0', count=1.0, city_name='Atlanta', median_age='33.8', pct_male_pop=48.3),\n",
       " Row(city_code='ATL', date='20551.0', count=1.0, city_name='Atlanta', median_age='33.8', pct_male_pop=48.3),\n",
       " Row(city_code='ATL', date='20557.0', count=1.0, city_name='Atlanta', median_age='33.8', pct_male_pop=48.3),\n",
       " Row(city_code='ATL', date='20564.0', count=1.0, city_name='Atlanta', median_age='33.8', pct_male_pop=48.3),\n",
       " Row(city_code='ATL', date='20559.0', count=1.0, city_name='Atlanta', median_age='33.8', pct_male_pop=48.3),\n",
       " Row(city_code='ATL', date='20556.0', count=1.0, city_name='Atlanta', median_age='33.8', pct_male_pop=48.3),\n",
       " Row(city_code='ATL', date='20550.0', count=1.0, city_name='Atlanta', median_age='33.8', pct_male_pop=48.3),\n",
       " Row(city_code='ATL', date='20572.0', count=1.0, city_name='Atlanta', median_age='33.8', pct_male_pop=48.3),\n",
       " Row(city_code='ATL', date='20553.0', count=1.0, city_name='Atlanta', median_age='33.8', pct_male_pop=48.3),\n",
       " Row(city_code='ATL', date='20563.0', count=1.0, city_name='Atlanta', median_age='33.8', pct_male_pop=48.3),\n",
       " Row(city_code='ATL', date='20547.0', count=1.0, city_name='Atlanta', median_age='33.8', pct_male_pop=48.3),\n",
       " Row(city_code='ATL', date='20554.0', count=1.0, city_name='Atlanta', median_age='33.8', pct_male_pop=48.3),\n",
       " Row(city_code='ATL', date='20556.0', count=1.0, city_name='Atlanta', median_age='33.8', pct_male_pop=48.3),\n",
       " Row(city_code='ATL', date='20556.0', count=1.0, city_name='Atlanta', median_age='33.8', pct_male_pop=48.3),\n",
       " Row(city_code='ATL', date='20555.0', count=1.0, city_name='Atlanta', median_age='33.8', pct_male_pop=48.3),\n",
       " Row(city_code='ATL', date='20563.0', count=1.0, city_name='Atlanta', median_age='33.8', pct_male_pop=48.3),\n",
       " Row(city_code='ATL', date='20574.0', count=1.0, city_name='Atlanta', median_age='33.8', pct_male_pop=48.3),\n",
       " Row(city_code='ATL', date='20552.0', count=1.0, city_name='Atlanta', median_age='33.8', pct_male_pop=48.3),\n",
       " Row(city_code='ATL', date='20550.0', count=1.0, city_name='Atlanta', median_age='33.8', pct_male_pop=48.3),\n",
       " Row(city_code='ATL', date='20545.0', count=1.0, city_name='Atlanta', median_age='33.8', pct_male_pop=48.3),\n",
       " Row(city_code='ATL', date='20560.0', count=1.0, city_name='Atlanta', median_age='33.8', pct_male_pop=48.3),\n",
       " Row(city_code='ATL', date='20569.0', count=1.0, city_name='Atlanta', median_age='33.8', pct_male_pop=48.3),\n",
       " Row(city_code='ATL', date='20548.0', count=1.0, city_name='Atlanta', median_age='33.8', pct_male_pop=48.3),\n",
       " Row(city_code='ATL', date='20554.0', count=1.0, city_name='Atlanta', median_age='33.8', pct_male_pop=48.3),\n",
       " Row(city_code='ATL', date='20567.0', count=1.0, city_name='Atlanta', median_age='33.8', pct_male_pop=48.3),\n",
       " Row(city_code='ATL', date='20561.0', count=1.0, city_name='Atlanta', median_age='33.8', pct_male_pop=48.3),\n",
       " Row(city_code='ATL', date='20567.0', count=1.0, city_name='Atlanta', median_age='33.8', pct_male_pop=48.3),\n",
       " Row(city_code='ATL', date='20562.0', count=1.0, city_name='Atlanta', median_age='33.8', pct_male_pop=48.3),\n",
       " Row(city_code='ATL', date='20572.0', count=1.0, city_name='Atlanta', median_age='33.8', pct_male_pop=48.3),\n",
       " Row(city_code='ATL', date='20546.0', count=1.0, city_name='Atlanta', median_age='33.8', pct_male_pop=48.3),\n",
       " Row(city_code='ATL', date='20562.0', count=1.0, city_name='Atlanta', median_age='33.8', pct_male_pop=48.3),\n",
       " Row(city_code='ATL', date='20561.0', count=1.0, city_name='Atlanta', median_age='33.8', pct_male_pop=48.3),\n",
       " Row(city_code='ATL', date='20564.0', count=1.0, city_name='Atlanta', median_age='33.8', pct_male_pop=48.3),\n",
       " Row(city_code='ATL', date='20554.0', count=1.0, city_name='Atlanta', median_age='33.8', pct_male_pop=48.3),\n",
       " Row(city_code='ATL', date='20569.0', count=1.0, city_name='Atlanta', median_age='33.8', pct_male_pop=48.3),\n",
       " Row(city_code='ATL', date='20552.0', count=1.0, city_name='Atlanta', median_age='33.8', pct_male_pop=48.3),\n",
       " Row(city_code='ATL', date='20555.0', count=1.0, city_name='Atlanta', median_age='33.8', pct_male_pop=48.3),\n",
       " Row(city_code='ATL', date='20563.0', count=1.0, city_name='Atlanta', median_age='33.8', pct_male_pop=48.3),\n",
       " Row(city_code='ATL', date='20565.0', count=1.0, city_name='Atlanta', median_age='33.8', pct_male_pop=48.3),\n",
       " Row(city_code='ATL', date='20569.0', count=1.0, city_name='Atlanta', median_age='33.8', pct_male_pop=48.3),\n",
       " Row(city_code='ATL', date='20549.0', count=1.0, city_name='Atlanta', median_age='33.8', pct_male_pop=48.3),\n",
       " Row(city_code='ATL', date='20552.0', count=1.0, city_name='Atlanta', median_age='33.8', pct_male_pop=48.3),\n",
       " Row(city_code='ATL', date='20567.0', count=1.0, city_name='Atlanta', median_age='33.8', pct_male_pop=48.3),\n",
       " Row(city_code='ATL', date='20573.0', count=1.0, city_name='Atlanta', median_age='33.8', pct_male_pop=48.3),\n",
       " Row(city_code='ATL', date='20563.0', count=1.0, city_name='Atlanta', median_age='33.8', pct_male_pop=48.3),\n",
       " Row(city_code='ATL', date='20567.0', count=1.0, city_name='Atlanta', median_age='33.8', pct_male_pop=48.3),\n",
       " Row(city_code='ATL', date='20565.0', count=1.0, city_name='Atlanta', median_age='33.8', pct_male_pop=48.3),\n",
       " Row(city_code='ATL', date='20556.0', count=1.0, city_name='Atlanta', median_age='33.8', pct_male_pop=48.3),\n",
       " Row(city_code='ATL', date='20566.0', count=1.0, city_name='Atlanta', median_age='33.8', pct_male_pop=48.3),\n",
       " Row(city_code='ATL', date='20548.0', count=1.0, city_name='Atlanta', median_age='33.8', pct_male_pop=48.3),\n",
       " Row(city_code='ATL', date='20563.0', count=1.0, city_name='Atlanta', median_age='33.8', pct_male_pop=48.3),\n",
       " Row(city_code='ATL', date='20547.0', count=1.0, city_name='Atlanta', median_age='33.8', pct_male_pop=48.3),\n",
       " Row(city_code='ATL', date='20570.0', count=1.0, city_name='Atlanta', median_age='33.8', pct_male_pop=48.3),\n",
       " Row(city_code='ATL', date='20558.0', count=1.0, city_name='Atlanta', median_age='33.8', pct_male_pop=48.3),\n",
       " Row(city_code='ATL', date='20568.0', count=1.0, city_name='Atlanta', median_age='33.8', pct_male_pop=48.3),\n",
       " Row(city_code='ATL', date='20569.0', count=1.0, city_name='Atlanta', median_age='33.8', pct_male_pop=48.3),\n",
       " Row(city_code='ATL', date='20574.0', count=1.0, city_name='Atlanta', median_age='33.8', pct_male_pop=48.3),\n",
       " Row(city_code='ATL', date='20568.0', count=1.0, city_name='Atlanta', median_age='33.8', pct_male_pop=48.3),\n",
       " Row(city_code='ATL', date='20545.0', count=1.0, city_name='Atlanta', median_age='33.8', pct_male_pop=48.3),\n",
       " Row(city_code='ATL', date='20556.0', count=1.0, city_name='Atlanta', median_age='33.8', pct_male_pop=48.3),\n",
       " Row(city_code='ATL', date='20565.0', count=1.0, city_name='Atlanta', median_age='33.8', pct_male_pop=48.3),\n",
       " Row(city_code='ATL', date='20569.0', count=1.0, city_name='Atlanta', median_age='33.8', pct_male_pop=48.3),\n",
       " Row(city_code='ATL', date='20563.0', count=1.0, city_name='Atlanta', median_age='33.8', pct_male_pop=48.3),\n",
       " Row(city_code='ATL', date='20555.0', count=1.0, city_name='Atlanta', median_age='33.8', pct_male_pop=48.3),\n",
       " Row(city_code='ATL', date='20552.0', count=1.0, city_name='Atlanta', median_age='33.8', pct_male_pop=48.3),\n",
       " Row(city_code='ATL', date='20546.0', count=1.0, city_name='Atlanta', median_age='33.8', pct_male_pop=48.3),\n",
       " Row(city_code='ATL', date='20573.0', count=1.0, city_name='Atlanta', median_age='33.8', pct_male_pop=48.3),\n",
       " Row(city_code='ATL', date='20565.0', count=1.0, city_name='Atlanta', median_age='33.8', pct_male_pop=48.3),\n",
       " Row(city_code='ATL', date='20569.0', count=1.0, city_name='Atlanta', median_age='33.8', pct_male_pop=48.3),\n",
       " Row(city_code='ATL', date='20574.0', count=1.0, city_name='Atlanta', median_age='33.8', pct_male_pop=48.3),\n",
       " Row(city_code='ATL', date='20559.0', count=1.0, city_name='Atlanta', median_age='33.8', pct_male_pop=48.3),\n",
       " Row(city_code='ATL', date='20547.0', count=1.0, city_name='Atlanta', median_age='33.8', pct_male_pop=48.3),\n",
       " Row(city_code='ATL', date='20554.0', count=1.0, city_name='Atlanta', median_age='33.8', pct_male_pop=48.3),\n",
       " Row(city_code='ATL', date='20553.0', count=1.0, city_name='Atlanta', median_age='33.8', pct_male_pop=48.3),\n",
       " Row(city_code='ATL', date='20550.0', count=1.0, city_name='Atlanta', median_age='33.8', pct_male_pop=48.3),\n",
       " Row(city_code='ATL', date='20564.0', count=1.0, city_name='Atlanta', median_age='33.8', pct_male_pop=48.3),\n",
       " Row(city_code='ATL', date='20560.0', count=1.0, city_name='Atlanta', median_age='33.8', pct_male_pop=48.3),\n",
       " Row(city_code='ATL', date='20574.0', count=1.0, city_name='Atlanta', median_age='33.8', pct_male_pop=48.3),\n",
       " Row(city_code='ATL', date='20568.0', count=1.0, city_name='Atlanta', median_age='33.8', pct_male_pop=48.3),\n",
       " Row(city_code='ATL', date='20545.0', count=1.0, city_name='Atlanta', median_age='33.8', pct_male_pop=48.3),\n",
       " Row(city_code='ATL', date='20573.0', count=1.0, city_name='Atlanta', median_age='33.8', pct_male_pop=48.3),\n",
       " Row(city_code='ATL', date='20548.0', count=1.0, city_name='Atlanta', median_age='33.8', pct_male_pop=48.3),\n",
       " Row(city_code='ATL', date='20556.0', count=1.0, city_name='Atlanta', median_age='33.8', pct_male_pop=48.3),\n",
       " Row(city_code='ATL', date='20545.0', count=1.0, city_name='Atlanta', median_age='33.8', pct_male_pop=48.3),\n",
       " Row(city_code='ATL', date='20569.0', count=1.0, city_name='Atlanta', median_age='33.8', pct_male_pop=48.3),\n",
       " Row(city_code='ATL', date='20554.0', count=1.0, city_name='Atlanta', median_age='33.8', pct_male_pop=48.3),\n",
       " Row(city_code='ATL', date='20548.0', count=1.0, city_name='Atlanta', median_age='33.8', pct_male_pop=48.3),\n",
       " Row(city_code='ATL', date='20549.0', count=1.0, city_name='Atlanta', median_age='33.8', pct_male_pop=48.3),\n",
       " Row(city_code='ATL', date='20573.0', count=1.0, city_name='Atlanta', median_age='33.8', pct_male_pop=48.3),\n",
       " Row(city_code='ATL', date='20552.0', count=1.0, city_name='Atlanta', median_age='33.8', pct_male_pop=48.3),\n",
       " Row(city_code='ATL', date='20554.0', count=1.0, city_name='Atlanta', median_age='33.8', pct_male_pop=48.3),\n",
       " Row(city_code='ATL', date='20551.0', count=1.0, city_name='Atlanta', median_age='33.8', pct_male_pop=48.3),\n",
       " Row(city_code='ATL', date='20557.0', count=1.0, city_name='Atlanta', median_age='33.8', pct_male_pop=48.3),\n",
       " Row(city_code='ATL', date='20570.0', count=1.0, city_name='Atlanta', median_age='33.8', pct_male_pop=48.3),\n",
       " Row(city_code='ATL', date='20548.0', count=1.0, city_name='Atlanta', median_age='33.8', pct_male_pop=48.3),\n",
       " Row(city_code='ATL', date='20561.0', count=1.0, city_name='Atlanta', median_age='33.8', pct_male_pop=48.3),\n",
       " Row(city_code='ATL', date='20571.0', count=1.0, city_name='Atlanta', median_age='33.8', pct_male_pop=48.3),\n",
       " Row(city_code='ATL', date='20573.0', count=1.0, city_name='Atlanta', median_age='33.8', pct_male_pop=48.3),\n",
       " Row(city_code='ATL', date='20545.0', count=1.0, city_name='Atlanta', median_age='33.8', pct_male_pop=48.3),\n",
       " Row(city_code='ATL', date='20573.0', count=1.0, city_name='Atlanta', median_age='33.8', pct_male_pop=48.3),\n",
       " Row(city_code='ATL', date='20570.0', count=1.0, city_name='Atlanta', median_age='33.8', pct_male_pop=48.3),\n",
       " Row(city_code='ATL', date='20547.0', count=1.0, city_name='Atlanta', median_age='33.8', pct_male_pop=48.3),\n",
       " Row(city_code='ATL', date='20572.0', count=1.0, city_name='Atlanta', median_age='33.8', pct_male_pop=48.3),\n",
       " Row(city_code='ATL', date='20570.0', count=1.0, city_name='Atlanta', median_age='33.8', pct_male_pop=48.3),\n",
       " Row(city_code='ATL', date='20573.0', count=1.0, city_name='Atlanta', median_age='33.8', pct_male_pop=48.3),\n",
       " Row(city_code='ATL', date='20557.0', count=1.0, city_name='Atlanta', median_age='33.8', pct_male_pop=48.3),\n",
       " Row(city_code='ATL', date='20547.0', count=1.0, city_name='Atlanta', median_age='33.8', pct_male_pop=48.3),\n",
       " Row(city_code='ATL', date='20566.0', count=1.0, city_name='Atlanta', median_age='33.8', pct_male_pop=48.3),\n",
       " Row(city_code='ATL', date='20573.0', count=1.0, city_name='Atlanta', median_age='33.8', pct_male_pop=48.3),\n",
       " Row(city_code='ATL', date='20553.0', count=1.0, city_name='Atlanta', median_age='33.8', pct_male_pop=48.3),\n",
       " Row(city_code='ATL', date='20549.0', count=1.0, city_name='Atlanta', median_age='33.8', pct_male_pop=48.3),\n",
       " Row(city_code='ATL', date='20572.0', count=1.0, city_name='Atlanta', median_age='33.8', pct_male_pop=48.3),\n",
       " Row(city_code='ATL', date='20562.0', count=1.0, city_name='Atlanta', median_age='33.8', pct_male_pop=48.3),\n",
       " Row(city_code='ATL', date='20572.0', count=1.0, city_name='Atlanta', median_age='33.8', pct_male_pop=48.3),\n",
       " Row(city_code='ATL', date='20562.0', count=1.0, city_name='Atlanta', median_age='33.8', pct_male_pop=48.3),\n",
       " Row(city_code='ATL', date='20548.0', count=1.0, city_name='Atlanta', median_age='33.8', pct_male_pop=48.3),\n",
       " Row(city_code='ATL', date='20553.0', count=1.0, city_name='Atlanta', median_age='33.8', pct_male_pop=48.3),\n",
       " Row(city_code='ATL', date='20547.0', count=1.0, city_name='Atlanta', median_age='33.8', pct_male_pop=48.3),\n",
       " Row(city_code='ATL', date='20569.0', count=1.0, city_name='Atlanta', median_age='33.8', pct_male_pop=48.3),\n",
       " Row(city_code='ATL', date='20552.0', count=1.0, city_name='Atlanta', median_age='33.8', pct_male_pop=48.3),\n",
       " Row(city_code='ATL', date='20547.0', count=1.0, city_name='Atlanta', median_age='33.8', pct_male_pop=48.3),\n",
       " Row(city_code='ATL', date='20558.0', count=1.0, city_name='Atlanta', median_age='33.8', pct_male_pop=48.3),\n",
       " Row(city_code='ATL', date='20557.0', count=1.0, city_name='Atlanta', median_age='33.8', pct_male_pop=48.3),\n",
       " Row(city_code='ATL', date='20553.0', count=1.0, city_name='Atlanta', median_age='33.8', pct_male_pop=48.3),\n",
       " Row(city_code='ATL', date='20568.0', count=1.0, city_name='Atlanta', median_age='33.8', pct_male_pop=48.3),\n",
       " Row(city_code='ATL', date='20555.0', count=1.0, city_name='Atlanta', median_age='33.8', pct_male_pop=48.3),\n",
       " Row(city_code='ATL', date='20560.0', count=1.0, city_name='Atlanta', median_age='33.8', pct_male_pop=48.3),\n",
       " Row(city_code='ATL', date='20563.0', count=1.0, city_name='Atlanta', median_age='33.8', pct_male_pop=48.3),\n",
       " Row(city_code='ATL', date='20559.0', count=1.0, city_name='Atlanta', median_age='33.8', pct_male_pop=48.3),\n",
       " Row(city_code='ATL', date='20573.0', count=1.0, city_name='Atlanta', median_age='33.8', pct_male_pop=48.3),\n",
       " Row(city_code='ATL', date='20574.0', count=1.0, city_name='Atlanta', median_age='33.8', pct_male_pop=48.3),\n",
       " Row(city_code='ATL', date='20572.0', count=1.0, city_name='Atlanta', median_age='33.8', pct_male_pop=48.3),\n",
       " Row(city_code='ATL', date='20574.0', count=1.0, city_name='Atlanta', median_age='33.8', pct_male_pop=48.3),\n",
       " Row(city_code='ATL', date='20559.0', count=1.0, city_name='Atlanta', median_age='33.8', pct_male_pop=48.3),\n",
       " Row(city_code='ATL', date='20573.0', count=1.0, city_name='Atlanta', median_age='33.8', pct_male_pop=48.3),\n",
       " Row(city_code='ATL', date='20549.0', count=1.0, city_name='Atlanta', median_age='33.8', pct_male_pop=48.3),\n",
       " Row(city_code='ATL', date='20573.0', count=1.0, city_name='Atlanta', median_age='33.8', pct_male_pop=48.3),\n",
       " Row(city_code='ATL', date='20565.0', count=1.0, city_name='Atlanta', median_age='33.8', pct_male_pop=48.3),\n",
       " Row(city_code='ATL', date='20560.0', count=1.0, city_name='Atlanta', median_age='33.8', pct_male_pop=48.3),\n",
       " Row(city_code='ATL', date='20550.0', count=1.0, city_name='Atlanta', median_age='33.8', pct_male_pop=48.3),\n",
       " Row(city_code='ATL', date='20573.0', count=1.0, city_name='Atlanta', median_age='33.8', pct_male_pop=48.3),\n",
       " Row(city_code='ATL', date='20567.0', count=1.0, city_name='Atlanta', median_age='33.8', pct_male_pop=48.3),\n",
       " Row(city_code='ATL', date='20560.0', count=1.0, city_name='Atlanta', median_age='33.8', pct_male_pop=48.3),\n",
       " Row(city_code='ATL', date='20563.0', count=1.0, city_name='Atlanta', median_age='33.8', pct_male_pop=48.3),\n",
       " Row(city_code='ATL', date='20573.0', count=1.0, city_name='Atlanta', median_age='33.8', pct_male_pop=48.3),\n",
       " Row(city_code='ATL', date='20563.0', count=1.0, city_name='Atlanta', median_age='33.8', pct_male_pop=48.3),\n",
       " Row(city_code='ATL', date='20570.0', count=1.0, city_name='Atlanta', median_age='33.8', pct_male_pop=48.3),\n",
       " Row(city_code='ATL', date='20559.0', count=1.0, city_name='Atlanta', median_age='33.8', pct_male_pop=48.3),\n",
       " Row(city_code='ATL', date='20565.0', count=1.0, city_name='Atlanta', median_age='33.8', pct_male_pop=48.3),\n",
       " Row(city_code='ATL', date='20552.0', count=1.0, city_name='Atlanta', median_age='33.8', pct_male_pop=48.3),\n",
       " Row(city_code='ATL', date='20557.0', count=1.0, city_name='Atlanta', median_age='33.8', pct_male_pop=48.3),\n",
       " Row(city_code='ATL', date='20571.0', count=1.0, city_name='Atlanta', median_age='33.8', pct_male_pop=48.3),\n",
       " Row(city_code='ATL', date='20567.0', count=1.0, city_name='Atlanta', median_age='33.8', pct_male_pop=48.3),\n",
       " Row(city_code='ATL', date='20548.0', count=1.0, city_name='Atlanta', median_age='33.8', pct_male_pop=48.3),\n",
       " Row(city_code='ATL', date='20552.0', count=1.0, city_name='Atlanta', median_age='33.8', pct_male_pop=48.3),\n",
       " Row(city_code='ATL', date='20546.0', count=1.0, city_name='Atlanta', median_age='33.8', pct_male_pop=48.3),\n",
       " Row(city_code='ATL', date='20566.0', count=1.0, city_name='Atlanta', median_age='33.8', pct_male_pop=48.3),\n",
       " Row(city_code='ATL', date='20561.0', count=1.0, city_name='Atlanta', median_age='33.8', pct_male_pop=48.3),\n",
       " Row(city_code='ATL', date='20552.0', count=1.0, city_name='Atlanta', median_age='33.8', pct_male_pop=48.3),\n",
       " Row(city_code='ATL', date='20573.0', count=1.0, city_name='Atlanta', median_age='33.8', pct_male_pop=48.3),\n",
       " Row(city_code='ATL', date='20559.0', count=1.0, city_name='Atlanta', median_age='33.8', pct_male_pop=48.3),\n",
       " Row(city_code='ATL', date='20550.0', count=1.0, city_name='Atlanta', median_age='33.8', pct_male_pop=48.3),\n",
       " Row(city_code='ATL', date='20550.0', count=1.0, city_name='Atlanta', median_age='33.8', pct_male_pop=48.3),\n",
       " Row(city_code='ATL', date='20563.0', count=1.0, city_name='Atlanta', median_age='33.8', pct_male_pop=48.3),\n",
       " Row(city_code='ATL', date='20556.0', count=1.0, city_name='Atlanta', median_age='33.8', pct_male_pop=48.3),\n",
       " Row(city_code='ATL', date='20564.0', count=1.0, city_name='Atlanta', median_age='33.8', pct_male_pop=48.3),\n",
       " Row(city_code='ATL', date='20562.0', count=1.0, city_name='Atlanta', median_age='33.8', pct_male_pop=48.3),\n",
       " Row(city_code='ATL', date='20564.0', count=1.0, city_name='Atlanta', median_age='33.8', pct_male_pop=48.3),\n",
       " Row(city_code='ATL', date='20556.0', count=1.0, city_name='Atlanta', median_age='33.8', pct_male_pop=48.3),\n",
       " Row(city_code='ATL', date='20551.0', count=1.0, city_name='Atlanta', median_age='33.8', pct_male_pop=48.3),\n",
       " Row(city_code='ATL', date='20567.0', count=1.0, city_name='Atlanta', median_age='33.8', pct_male_pop=48.3),\n",
       " Row(city_code='ATL', date='20555.0', count=1.0, city_name='Atlanta', median_age='33.8', pct_male_pop=48.3),\n",
       " Row(city_code='ATL', date='20549.0', count=1.0, city_name='Atlanta', median_age='33.8', pct_male_pop=48.3),\n",
       " Row(city_code='ATL', date='20568.0', count=1.0, city_name='Atlanta', median_age='33.8', pct_male_pop=48.3),\n",
       " Row(city_code='ATL', date='20559.0', count=1.0, city_name='Atlanta', median_age='33.8', pct_male_pop=48.3),\n",
       " Row(city_code='ATL', date='20574.0', count=1.0, city_name='Atlanta', median_age='33.8', pct_male_pop=48.3),\n",
       " Row(city_code='ATL', date='20557.0', count=1.0, city_name='Atlanta', median_age='33.8', pct_male_pop=48.3),\n",
       " Row(city_code='ATL', date='20563.0', count=1.0, city_name='Atlanta', median_age='33.8', pct_male_pop=48.3),\n",
       " Row(city_code='ATL', date='20547.0', count=1.0, city_name='Atlanta', median_age='33.8', pct_male_pop=48.3),\n",
       " Row(city_code='ATL', date='20547.0', count=1.0, city_name='Atlanta', median_age='33.8', pct_male_pop=48.3),\n",
       " Row(city_code='ATL', date='20545.0', count=1.0, city_name='Atlanta', median_age='33.8', pct_male_pop=48.3),\n",
       " Row(city_code='ATL', date='20572.0', count=1.0, city_name='Atlanta', median_age='33.8', pct_male_pop=48.3),\n",
       " Row(city_code='ATL', date='20568.0', count=1.0, city_name='Atlanta', median_age='33.8', pct_male_pop=48.3),\n",
       " Row(city_code='ATL', date='20548.0', count=1.0, city_name='Atlanta', median_age='33.8', pct_male_pop=48.3),\n",
       " Row(city_code='ATL', date='20563.0', count=1.0, city_name='Atlanta', median_age='33.8', pct_male_pop=48.3),\n",
       " Row(city_code='ATL', date='20574.0', count=1.0, city_name='Atlanta', median_age='33.8', pct_male_pop=48.3),\n",
       " Row(city_code='ATL', date='20555.0', count=1.0, city_name='Atlanta', median_age='33.8', pct_male_pop=48.3),\n",
       " Row(city_code='ATL', date='20562.0', count=1.0, city_name='Atlanta', median_age='33.8', pct_male_pop=48.3),\n",
       " Row(city_code='ATL', date='20559.0', count=1.0, city_name='Atlanta', median_age='33.8', pct_male_pop=48.3),\n",
       " Row(city_code='ATL', date='20570.0', count=1.0, city_name='Atlanta', median_age='33.8', pct_male_pop=48.3),\n",
       " Row(city_code='ATL', date='20563.0', count=1.0, city_name='Atlanta', median_age='33.8', pct_male_pop=48.3),\n",
       " Row(city_code='ATL', date='20546.0', count=1.0, city_name='Atlanta', median_age='33.8', pct_male_pop=48.3),\n",
       " Row(city_code='ATL', date='20556.0', count=1.0, city_name='Atlanta', median_age='33.8', pct_male_pop=48.3),\n",
       " Row(city_code='ATL', date='20560.0', count=1.0, city_name='Atlanta', median_age='33.8', pct_male_pop=48.3),\n",
       " Row(city_code='ATL', date='20565.0', count=1.0, city_name='Atlanta', median_age='33.8', pct_male_pop=48.3),\n",
       " Row(city_code='ATL', date='20561.0', count=1.0, city_name='Atlanta', median_age='33.8', pct_male_pop=48.3),\n",
       " Row(city_code='ATL', date='20570.0', count=1.0, city_name='Atlanta', median_age='33.8', pct_male_pop=48.3),\n",
       " Row(city_code='ATL', date='20567.0', count=1.0, city_name='Atlanta', median_age='33.8', pct_male_pop=48.3),\n",
       " Row(city_code='ATL', date='20574.0', count=1.0, city_name='Atlanta', median_age='33.8', pct_male_pop=48.3),\n",
       " Row(city_code='ATL', date='20555.0', count=1.0, city_name='Atlanta', median_age='33.8', pct_male_pop=48.3),\n",
       " Row(city_code='ATL', date='20568.0', count=1.0, city_name='Atlanta', median_age='33.8', pct_male_pop=48.3),\n",
       " Row(city_code='ATL', date='20558.0', count=1.0, city_name='Atlanta', median_age='33.8', pct_male_pop=48.3),\n",
       " Row(city_code='ATL', date='20550.0', count=1.0, city_name='Atlanta', median_age='33.8', pct_male_pop=48.3),\n",
       " Row(city_code='ATL', date='20546.0', count=1.0, city_name='Atlanta', median_age='33.8', pct_male_pop=48.3),\n",
       " Row(city_code='ATL', date='20574.0', count=1.0, city_name='Atlanta', median_age='33.8', pct_male_pop=48.3),\n",
       " Row(city_code='ATL', date='20569.0', count=1.0, city_name='Atlanta', median_age='33.8', pct_male_pop=48.3),\n",
       " Row(city_code='ATL', date='20565.0', count=1.0, city_name='Atlanta', median_age='33.8', pct_male_pop=48.3),\n",
       " Row(city_code='ATL', date='20573.0', count=1.0, city_name='Atlanta', median_age='33.8', pct_male_pop=48.3),\n",
       " Row(city_code='ATL', date='20551.0', count=1.0, city_name='Atlanta', median_age='33.8', pct_male_pop=48.3),\n",
       " Row(city_code='ATL', date='20555.0', count=1.0, city_name='Atlanta', median_age='33.8', pct_male_pop=48.3),\n",
       " Row(city_code='ATL', date='20563.0', count=1.0, city_name='Atlanta', median_age='33.8', pct_male_pop=48.3),\n",
       " Row(city_code='ATL', date='20558.0', count=1.0, city_name='Atlanta', median_age='33.8', pct_male_pop=48.3),\n",
       " Row(city_code='ATL', date='20571.0', count=1.0, city_name='Atlanta', median_age='33.8', pct_male_pop=48.3),\n",
       " Row(city_code='ATL', date='20548.0', count=1.0, city_name='Atlanta', median_age='33.8', pct_male_pop=48.3),\n",
       " Row(city_code='ATL', date='20566.0', count=1.0, city_name='Atlanta', median_age='33.8', pct_male_pop=48.3),\n",
       " Row(city_code='ATL', date='20554.0', count=1.0, city_name='Atlanta', median_age='33.8', pct_male_pop=48.3),\n",
       " Row(city_code='ATL', date='20574.0', count=1.0, city_name='Atlanta', median_age='33.8', pct_male_pop=48.3),\n",
       " Row(city_code='ATL', date='20558.0', count=1.0, city_name='Atlanta', median_age='33.8', pct_male_pop=48.3),\n",
       " Row(city_code='ATL', date='20556.0', count=1.0, city_name='Atlanta', median_age='33.8', pct_male_pop=48.3),\n",
       " Row(city_code='ATL', date='20571.0', count=1.0, city_name='Atlanta', median_age='33.8', pct_male_pop=48.3),\n",
       " Row(city_code='ATL', date='20551.0', count=1.0, city_name='Atlanta', median_age='33.8', pct_male_pop=48.3),\n",
       " Row(city_code='ATL', date='20556.0', count=1.0, city_name='Atlanta', median_age='33.8', pct_male_pop=48.3),\n",
       " Row(city_code='ATL', date='20551.0', count=1.0, city_name='Atlanta', median_age='33.8', pct_male_pop=48.3),\n",
       " Row(city_code='ATL', date='20570.0', count=1.0, city_name='Atlanta', median_age='33.8', pct_male_pop=48.3),\n",
       " Row(city_code='ATL', date='20561.0', count=1.0, city_name='Atlanta', median_age='33.8', pct_male_pop=48.3),\n",
       " Row(city_code='ATL', date='20547.0', count=1.0, city_name='Atlanta', median_age='33.8', pct_male_pop=48.3),\n",
       " Row(city_code='ATL', date='20545.0', count=1.0, city_name='Atlanta', median_age='33.8', pct_male_pop=48.3),\n",
       " Row(city_code='ATL', date='20573.0', count=1.0, city_name='Atlanta', median_age='33.8', pct_male_pop=48.3),\n",
       " Row(city_code='ATL', date='20562.0', count=1.0, city_name='Atlanta', median_age='33.8', pct_male_pop=48.3),\n",
       " Row(city_code='ATL', date='20570.0', count=1.0, city_name='Atlanta', median_age='33.8', pct_male_pop=48.3),\n",
       " Row(city_code='ATL', date='20571.0', count=1.0, city_name='Atlanta', median_age='33.8', pct_male_pop=48.3),\n",
       " Row(city_code='ATL', date='20569.0', count=1.0, city_name='Atlanta', median_age='33.8', pct_male_pop=48.3),\n",
       " Row(city_code='ATL', date='20548.0', count=1.0, city_name='Atlanta', median_age='33.8', pct_male_pop=48.3),\n",
       " Row(city_code='ATL', date='20574.0', count=1.0, city_name='Atlanta', median_age='33.8', pct_male_pop=48.3),\n",
       " Row(city_code='ATL', date='20549.0', count=1.0, city_name='Atlanta', median_age='33.8', pct_male_pop=48.3),\n",
       " Row(city_code='ATL', date='20567.0', count=1.0, city_name='Atlanta', median_age='33.8', pct_male_pop=48.3),\n",
       " Row(city_code='ATL', date='20561.0', count=1.0, city_name='Atlanta', median_age='33.8', pct_male_pop=48.3),\n",
       " Row(city_code='ATL', date='20560.0', count=1.0, city_name='Atlanta', median_age='33.8', pct_male_pop=48.3),\n",
       " Row(city_code='ATL', date='20548.0', count=1.0, city_name='Atlanta', median_age='33.8', pct_male_pop=48.3),\n",
       " Row(city_code='ATL', date='20573.0', count=1.0, city_name='Atlanta', median_age='33.8', pct_male_pop=48.3),\n",
       " Row(city_code='ATL', date='20548.0', count=1.0, city_name='Atlanta', median_age='33.8', pct_male_pop=48.3),\n",
       " Row(city_code='ATL', date='20574.0', count=1.0, city_name='Atlanta', median_age='33.8', pct_male_pop=48.3),\n",
       " Row(city_code='ATL', date='20563.0', count=1.0, city_name='Atlanta', median_age='33.8', pct_male_pop=48.3),\n",
       " Row(city_code='ATL', date='20572.0', count=1.0, city_name='Atlanta', median_age='33.8', pct_male_pop=48.3),\n",
       " Row(city_code='ATL', date='20559.0', count=1.0, city_name='Atlanta', median_age='33.8', pct_male_pop=48.3),\n",
       " Row(city_code='ATL', date='20564.0', count=1.0, city_name='Atlanta', median_age='33.8', pct_male_pop=48.3),\n",
       " Row(city_code='ATL', date='20562.0', count=1.0, city_name='Atlanta', median_age='33.8', pct_male_pop=48.3),\n",
       " Row(city_code='ATL', date='20563.0', count=1.0, city_name='Atlanta', median_age='33.8', pct_male_pop=48.3),\n",
       " Row(city_code='ATL', date='20554.0', count=1.0, city_name='Atlanta', median_age='33.8', pct_male_pop=48.3),\n",
       " Row(city_code='ATL', date='20571.0', count=1.0, city_name='Atlanta', median_age='33.8', pct_male_pop=48.3),\n",
       " Row(city_code='ATL', date='20573.0', count=1.0, city_name='Atlanta', median_age='33.8', pct_male_pop=48.3),\n",
       " Row(city_code='ATL', date='20557.0', count=1.0, city_name='Atlanta', median_age='33.8', pct_male_pop=48.3),\n",
       " Row(city_code='ATL', date='20573.0', count=1.0, city_name='Atlanta', median_age='33.8', pct_male_pop=48.3),\n",
       " Row(city_code='ATL', date='20558.0', count=1.0, city_name='Atlanta', median_age='33.8', pct_male_pop=48.3),\n",
       " Row(city_code='ATL', date='20548.0', count=1.0, city_name='Atlanta', median_age='33.8', pct_male_pop=48.3),\n",
       " Row(city_code='ATL', date='20562.0', count=1.0, city_name='Atlanta', median_age='33.8', pct_male_pop=48.3),\n",
       " Row(city_code='ATL', date='20550.0', count=1.0, city_name='Atlanta', median_age='33.8', pct_male_pop=48.3),\n",
       " Row(city_code='ATL', date='20560.0', count=1.0, city_name='Atlanta', median_age='33.8', pct_male_pop=48.3),\n",
       " Row(city_code='ATL', date='20558.0', count=1.0, city_name='Atlanta', median_age='33.8', pct_male_pop=48.3),\n",
       " Row(city_code='ATL', date='20560.0', count=1.0, city_name='Atlanta', median_age='33.8', pct_male_pop=48.3),\n",
       " Row(city_code='ATL', date='20545.0', count=1.0, city_name='Atlanta', median_age='33.8', pct_male_pop=48.3),\n",
       " Row(city_code='ATL', date='20551.0', count=1.0, city_name='Atlanta', median_age='33.8', pct_male_pop=48.3),\n",
       " Row(city_code='ATL', date='20549.0', count=1.0, city_name='Atlanta', median_age='33.8', pct_male_pop=48.3),\n",
       " Row(city_code='ATL', date='20562.0', count=1.0, city_name='Atlanta', median_age='33.8', pct_male_pop=48.3),\n",
       " Row(city_code='ATL', date='20567.0', count=1.0, city_name='Atlanta', median_age='33.8', pct_male_pop=48.3),\n",
       " Row(city_code='ATL', date='20552.0', count=1.0, city_name='Atlanta', median_age='33.8', pct_male_pop=48.3),\n",
       " Row(city_code='ATL', date='20572.0', count=1.0, city_name='Atlanta', median_age='33.8', pct_male_pop=48.3),\n",
       " Row(city_code='ATL', date='20563.0', count=1.0, city_name='Atlanta', median_age='33.8', pct_male_pop=48.3),\n",
       " Row(city_code='ATL', date='20545.0', count=1.0, city_name='Atlanta', median_age='33.8', pct_male_pop=48.3),\n",
       " Row(city_code='ATL', date='20568.0', count=1.0, city_name='Atlanta', median_age='33.8', pct_male_pop=48.3),\n",
       " Row(city_code='ATL', date='20560.0', count=1.0, city_name='Atlanta', median_age='33.8', pct_male_pop=48.3),\n",
       " Row(city_code='ATL', date='20554.0', count=1.0, city_name='Atlanta', median_age='33.8', pct_male_pop=48.3),\n",
       " Row(city_code='ATL', date='20553.0', count=1.0, city_name='Atlanta', median_age='33.8', pct_male_pop=48.3),\n",
       " Row(city_code='ATL', date='20569.0', count=1.0, city_name='Atlanta', median_age='33.8', pct_male_pop=48.3),\n",
       " Row(city_code='ATL', date='20548.0', count=1.0, city_name='Atlanta', median_age='33.8', pct_male_pop=48.3),\n",
       " Row(city_code='ATL', date='20561.0', count=1.0, city_name='Atlanta', median_age='33.8', pct_male_pop=48.3),\n",
       " Row(city_code='ATL', date='20553.0', count=1.0, city_name='Atlanta', median_age='33.8', pct_male_pop=48.3),\n",
       " Row(city_code='ATL', date='20559.0', count=1.0, city_name='Atlanta', median_age='33.8', pct_male_pop=48.3),\n",
       " Row(city_code='ATL', date='20571.0', count=1.0, city_name='Atlanta', median_age='33.8', pct_male_pop=48.3),\n",
       " Row(city_code='ATL', date='20572.0', count=1.0, city_name='Atlanta', median_age='33.8', pct_male_pop=48.3),\n",
       " Row(city_code='ATL', date='20550.0', count=1.0, city_name='Atlanta', median_age='33.8', pct_male_pop=48.3),\n",
       " Row(city_code='ATL', date='20546.0', count=1.0, city_name='Atlanta', median_age='33.8', pct_male_pop=48.3),\n",
       " Row(city_code='ATL', date='20568.0', count=1.0, city_name='Atlanta', median_age='33.8', pct_male_pop=48.3),\n",
       " Row(city_code='ATL', date='20546.0', count=1.0, city_name='Atlanta', median_age='33.8', pct_male_pop=48.3),\n",
       " Row(city_code='ATL', date='20553.0', count=1.0, city_name='Atlanta', median_age='33.8', pct_male_pop=48.3),\n",
       " Row(city_code='ATL', date='20550.0', count=1.0, city_name='Atlanta', median_age='33.8', pct_male_pop=48.3),\n",
       " Row(city_code='ATL', date='20569.0', count=1.0, city_name='Atlanta', median_age='33.8', pct_male_pop=48.3),\n",
       " Row(city_code='ATL', date='20546.0', count=1.0, city_name='Atlanta', median_age='33.8', pct_male_pop=48.3),\n",
       " Row(city_code='ATL', date='20554.0', count=1.0, city_name='Atlanta', median_age='33.8', pct_male_pop=48.3),\n",
       " Row(city_code='ATL', date='20559.0', count=1.0, city_name='Atlanta', median_age='33.8', pct_male_pop=48.3),\n",
       " Row(city_code='ATL', date='20551.0', count=1.0, city_name='Atlanta', median_age='33.8', pct_male_pop=48.3),\n",
       " Row(city_code='ATL', date='20570.0', count=1.0, city_name='Atlanta', median_age='33.8', pct_male_pop=48.3),\n",
       " Row(city_code='ATL', date='20568.0', count=1.0, city_name='Atlanta', median_age='33.8', pct_male_pop=48.3),\n",
       " Row(city_code='ATL', date='20573.0', count=1.0, city_name='Atlanta', median_age='33.8', pct_male_pop=48.3),\n",
       " Row(city_code='ATL', date='20551.0', count=1.0, city_name='Atlanta', median_age='33.8', pct_male_pop=48.3),\n",
       " Row(city_code='ATL', date='20558.0', count=1.0, city_name='Atlanta', median_age='33.8', pct_male_pop=48.3),\n",
       " Row(city_code='ATL', date='20557.0', count=1.0, city_name='Atlanta', median_age='33.8', pct_male_pop=48.3),\n",
       " Row(city_code='ATL', date='20546.0', count=1.0, city_name='Atlanta', median_age='33.8', pct_male_pop=48.3),\n",
       " Row(city_code='ATL', date='20560.0', count=1.0, city_name='Atlanta', median_age='33.8', pct_male_pop=48.3),\n",
       " Row(city_code='ATL', date='20552.0', count=1.0, city_name='Atlanta', median_age='33.8', pct_male_pop=48.3),\n",
       " Row(city_code='ATL', date='20550.0', count=1.0, city_name='Atlanta', median_age='33.8', pct_male_pop=48.3),\n",
       " Row(city_code='ATL', date='20562.0', count=1.0, city_name='Atlanta', median_age='33.8', pct_male_pop=48.3),\n",
       " Row(city_code='ATL', date='20560.0', count=1.0, city_name='Atlanta', median_age='33.8', pct_male_pop=48.3),\n",
       " Row(city_code='ATL', date='20549.0', count=1.0, city_name='Atlanta', median_age='33.8', pct_male_pop=48.3),\n",
       " Row(city_code='ATL', date='20553.0', count=1.0, city_name='Atlanta', median_age='33.8', pct_male_pop=48.3),\n",
       " Row(city_code='ATL', date='20572.0', count=1.0, city_name='Atlanta', median_age='33.8', pct_male_pop=48.3),\n",
       " Row(city_code='ATL', date='20566.0', count=1.0, city_name='Atlanta', median_age='33.8', pct_male_pop=48.3),\n",
       " Row(city_code='ATL', date='20548.0', count=1.0, city_name='Atlanta', median_age='33.8', pct_male_pop=48.3),\n",
       " Row(city_code='ATL', date='20563.0', count=1.0, city_name='Atlanta', median_age='33.8', pct_male_pop=48.3),\n",
       " Row(city_code='ATL', date='20564.0', count=1.0, city_name='Atlanta', median_age='33.8', pct_male_pop=48.3),\n",
       " Row(city_code='ATL', date='20567.0', count=1.0, city_name='Atlanta', median_age='33.8', pct_male_pop=48.3),\n",
       " Row(city_code='ATL', date='20571.0', count=1.0, city_name='Atlanta', median_age='33.8', pct_male_pop=48.3),\n",
       " Row(city_code='ATL', date='20574.0', count=1.0, city_name='Atlanta', median_age='33.8', pct_male_pop=48.3),\n",
       " Row(city_code='ATL', date='20566.0', count=1.0, city_name='Atlanta', median_age='33.8', pct_male_pop=48.3),\n",
       " Row(city_code='ATL', date='20561.0', count=1.0, city_name='Atlanta', median_age='33.8', pct_male_pop=48.3),\n",
       " Row(city_code='ATL', date='20551.0', count=1.0, city_name='Atlanta', median_age='33.8', pct_male_pop=48.3),\n",
       " Row(city_code='ATL', date='20574.0', count=1.0, city_name='Atlanta', median_age='33.8', pct_male_pop=48.3),\n",
       " Row(city_code='ATL', date='20548.0', count=1.0, city_name='Atlanta', median_age='33.8', pct_male_pop=48.3),\n",
       " Row(city_code='ATL', date='20559.0', count=1.0, city_name='Atlanta', median_age='33.8', pct_male_pop=48.3),\n",
       " Row(city_code='ATL', date='20555.0', count=1.0, city_name='Atlanta', median_age='33.8', pct_male_pop=48.3),\n",
       " Row(city_code='ATL', date='20564.0', count=1.0, city_name='Atlanta', median_age='33.8', pct_male_pop=48.3),\n",
       " Row(city_code='ATL', date='20548.0', count=1.0, city_name='Atlanta', median_age='33.8', pct_male_pop=48.3),\n",
       " Row(city_code='ATL', date='20547.0', count=1.0, city_name='Atlanta', median_age='33.8', pct_male_pop=48.3),\n",
       " Row(city_code='ATL', date='20561.0', count=1.0, city_name='Atlanta', median_age='33.8', pct_male_pop=48.3),\n",
       " Row(city_code='ATL', date='20570.0', count=1.0, city_name='Atlanta', median_age='33.8', pct_male_pop=48.3),\n",
       " Row(city_code='ATL', date='20563.0', count=1.0, city_name='Atlanta', median_age='33.8', pct_male_pop=48.3),\n",
       " Row(city_code='ATL', date='20548.0', count=1.0, city_name='Atlanta', median_age='33.8', pct_male_pop=48.3),\n",
       " Row(city_code='ATL', date='20567.0', count=1.0, city_name='Atlanta', median_age='33.8', pct_male_pop=48.3),\n",
       " Row(city_code='ATL', date='20545.0', count=1.0, city_name='Atlanta', median_age='33.8', pct_male_pop=48.3),\n",
       " Row(city_code='ATL', date='20549.0', count=1.0, city_name='Atlanta', median_age='33.8', pct_male_pop=48.3),\n",
       " Row(city_code='ATL', date='20554.0', count=1.0, city_name='Atlanta', median_age='33.8', pct_male_pop=48.3),\n",
       " Row(city_code='ATL', date='20557.0', count=1.0, city_name='Atlanta', median_age='33.8', pct_male_pop=48.3),\n",
       " Row(city_code='ATL', date='20546.0', count=1.0, city_name='Atlanta', median_age='33.8', pct_male_pop=48.3),\n",
       " Row(city_code='ATL', date='20573.0', count=1.0, city_name='Atlanta', median_age='33.8', pct_male_pop=48.3),\n",
       " Row(city_code='ATL', date='20570.0', count=1.0, city_name='Atlanta', median_age='33.8', pct_male_pop=48.3),\n",
       " Row(city_code='ATL', date='20570.0', count=1.0, city_name='Atlanta', median_age='33.8', pct_male_pop=48.3),\n",
       " Row(city_code='ATL', date='20561.0', count=1.0, city_name='Atlanta', median_age='33.8', pct_male_pop=48.3),\n",
       " Row(city_code='ATL', date='20571.0', count=1.0, city_name='Atlanta', median_age='33.8', pct_male_pop=48.3),\n",
       " Row(city_code='ATL', date='20547.0', count=1.0, city_name='Atlanta', median_age='33.8', pct_male_pop=48.3),\n",
       " Row(city_code='ATL', date='20572.0', count=1.0, city_name='Atlanta', median_age='33.8', pct_male_pop=48.3),\n",
       " Row(city_code='ATL', date='20557.0', count=1.0, city_name='Atlanta', median_age='33.8', pct_male_pop=48.3),\n",
       " Row(city_code='ATL', date='20552.0', count=1.0, city_name='Atlanta', median_age='33.8', pct_male_pop=48.3),\n",
       " Row(city_code='ATL', date='20573.0', count=1.0, city_name='Atlanta', median_age='33.8', pct_male_pop=48.3),\n",
       " Row(city_code='ATL', date='20564.0', count=1.0, city_name='Atlanta', median_age='33.8', pct_male_pop=48.3),\n",
       " Row(city_code='ATL', date='20546.0', count=1.0, city_name='Atlanta', median_age='33.8', pct_male_pop=48.3),\n",
       " Row(city_code='ATL', date='20547.0', count=1.0, city_name='Atlanta', median_age='33.8', pct_male_pop=48.3),\n",
       " Row(city_code='ATL', date='20561.0', count=1.0, city_name='Atlanta', median_age='33.8', pct_male_pop=48.3),\n",
       " Row(city_code='ATL', date='20562.0', count=1.0, city_name='Atlanta', median_age='33.8', pct_male_pop=48.3),\n",
       " Row(city_code='ATL', date='20565.0', count=1.0, city_name='Atlanta', median_age='33.8', pct_male_pop=48.3),\n",
       " Row(city_code='ATL', date='20574.0', count=1.0, city_name='Atlanta', median_age='33.8', pct_male_pop=48.3),\n",
       " Row(city_code='ATL', date='20554.0', count=1.0, city_name='Atlanta', median_age='33.8', pct_male_pop=48.3),\n",
       " Row(city_code='ATL', date='20545.0', count=1.0, city_name='Atlanta', median_age='33.8', pct_male_pop=48.3),\n",
       " Row(city_code='ATL', date='20559.0', count=1.0, city_name='Atlanta', median_age='33.8', pct_male_pop=48.3),\n",
       " Row(city_code='ATL', date='20550.0', count=1.0, city_name='Atlanta', median_age='33.8', pct_male_pop=48.3),\n",
       " Row(city_code='ATL', date='20549.0', count=1.0, city_name='Atlanta', median_age='33.8', pct_male_pop=48.3),\n",
       " Row(city_code='ATL', date='20551.0', count=1.0, city_name='Atlanta', median_age='33.8', pct_male_pop=48.3),\n",
       " Row(city_code='ATL', date='20573.0', count=1.0, city_name='Atlanta', median_age='33.8', pct_male_pop=48.3),\n",
       " Row(city_code='ATL', date='20557.0', count=1.0, city_name='Atlanta', median_age='33.8', pct_male_pop=48.3),\n",
       " Row(city_code='ATL', date='20555.0', count=1.0, city_name='Atlanta', median_age='33.8', pct_male_pop=48.3),\n",
       " Row(city_code='ATL', date='20572.0', count=1.0, city_name='Atlanta', median_age='33.8', pct_male_pop=48.3),\n",
       " Row(city_code='ATL', date='20563.0', count=1.0, city_name='Atlanta', median_age='33.8', pct_male_pop=48.3),\n",
       " Row(city_code='ATL', date='20572.0', count=1.0, city_name='Atlanta', median_age='33.8', pct_male_pop=48.3),\n",
       " Row(city_code='ATL', date='20561.0', count=1.0, city_name='Atlanta', median_age='33.8', pct_male_pop=48.3),\n",
       " Row(city_code='ATL', date='20547.0', count=1.0, city_name='Atlanta', median_age='33.8', pct_male_pop=48.3),\n",
       " Row(city_code='ATL', date='20558.0', count=1.0, city_name='Atlanta', median_age='33.8', pct_male_pop=48.3),\n",
       " Row(city_code='ATL', date='20546.0', count=1.0, city_name='Atlanta', median_age='33.8', pct_male_pop=48.3),\n",
       " Row(city_code='ATL', date='20559.0', count=1.0, city_name='Atlanta', median_age='33.8', pct_male_pop=48.3),\n",
       " Row(city_code='ATL', date='20552.0', count=1.0, city_name='Atlanta', median_age='33.8', pct_male_pop=48.3),\n",
       " Row(city_code='ATL', date='20568.0', count=1.0, city_name='Atlanta', median_age='33.8', pct_male_pop=48.3),\n",
       " Row(city_code='ATL', date='20569.0', count=1.0, city_name='Atlanta', median_age='33.8', pct_male_pop=48.3),\n",
       " Row(city_code='ATL', date='20556.0', count=1.0, city_name='Atlanta', median_age='33.8', pct_male_pop=48.3),\n",
       " ...]"
      ]
     },
     "execution_count": 46,
     "metadata": {},
     "output_type": "execute_result"
    }
   ],
   "source": [
    "immigration_df.join(city_df, 'city_code', 'inner').select('city_code', 'date','count','city_name','median_age','pct_male_pop').collect()\n"
   ]
  },
  {
   "cell_type": "code",
   "execution_count": null,
   "metadata": {
    "editable": true
   },
   "outputs": [],
   "source": []
  }
 ],
 "metadata": {
  "kernelspec": {
   "display_name": "Python 3",
   "language": "python",
   "name": "python3"
  },
  "language_info": {
   "codemirror_mode": {
    "name": "ipython",
    "version": 3
   },
   "file_extension": ".py",
   "mimetype": "text/x-python",
   "name": "python",
   "nbconvert_exporter": "python",
   "pygments_lexer": "ipython3",
   "version": "3.6.3"
  }
 },
 "nbformat": 4,
 "nbformat_minor": 4
}
